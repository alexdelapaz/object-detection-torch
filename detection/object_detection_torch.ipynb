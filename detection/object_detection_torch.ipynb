{
 "cells": [
  {
   "cell_type": "markdown",
   "metadata": {
    "id": "RnK7yD5ey7mj"
   },
   "source": [
    "# Torchvision Object Detection Training\n",
    "## Author: Alex de la Paz (http://www.alexdelapaz.com)\n",
    "\n",
    "Training using Torchvision `FasterRCNN_ResNet50` 2-stage model\n",
    "\n",
    "A subset of the `xView dataset` is used\n",
    "- http://xviewdataset.org/\n",
    "\n",
    "This subset was selected to perform a training run that works in a reasonable amount of time on Colab GPUs or personal use GPUs"
   ]
  },
  {
   "cell_type": "code",
   "execution_count": null,
   "metadata": {
    "colab": {
     "base_uri": "https://localhost:8080/"
    },
    "id": "6_JEoEigqedC",
    "outputId": "1da25d24-7f71-4eed-a0a4-6ec03f855528"
   },
   "outputs": [
    {
     "name": "stdout",
     "output_type": "stream",
     "text": [
      "Cloning into 'object-detection-torch'...\n",
      "remote: Enumerating objects: 561, done.\u001b[K\n",
      "remote: Counting objects: 100% (124/124), done.\u001b[K\n",
      "remote: Compressing objects: 100% (106/106), done.\u001b[K\n",
      "remote: Total 561 (delta 22), reused 116 (delta 14), pack-reused 437\u001b[K\n",
      "Receiving objects: 100% (561/561), 159.10 MiB | 23.18 MiB/s, done.\n",
      "Resolving deltas: 100% (25/25), done.\n"
     ]
    }
   ],
   "source": [
    "! git clone https://github.com/alexdelapaz/object-detection-torch"
   ]
  },
  {
   "cell_type": "code",
   "execution_count": null,
   "metadata": {
    "colab": {
     "base_uri": "https://localhost:8080/"
    },
    "id": "GOMAjVQu6tSX",
    "outputId": "8c0795e2-be1a-473a-b470-d0200b40b02f"
   },
   "outputs": [
    {
     "name": "stdout",
     "output_type": "stream",
     "text": [
      "/content/object-detection-torch\n"
     ]
    }
   ],
   "source": [
    "cd /content/object-detection-torch"
   ]
  },
  {
   "cell_type": "code",
   "execution_count": null,
   "metadata": {},
   "outputs": [],
   "source": [
    "!git clone https://github.com/pytorch/vision.git"
   ]
  },
  {
   "cell_type": "markdown",
   "metadata": {
    "id": "-dxpib0lyzSl"
   },
   "source": [
    "## Train FasterRCNN_ResNet50\n",
    "- 336 Training samples\n",
    "- 84 Test samples\n",
    "- 20 Epochs\n",
    "- Save loss, eval, and model weights every 5 epochs\n",
    "- Save weights every epoch\n",
    "- `SGD` optimizer\n",
    "- Learning rate of 0.0001"
   ]
  },
  {
   "cell_type": "code",
   "execution_count": null,
   "metadata": {
    "colab": {
     "base_uri": "https://localhost:8080/"
    },
    "id": "5veukqcXrBvi",
    "outputId": "ca6a30ea-164d-4323-a926-d0e5924fd278"
   },
   "outputs": [
    {
     "name": "stdout",
     "output_type": "stream",
     "text": [
      "------------------------------------------------------\n",
      "Training: FasterRCNN_ResNet50\n",
      "\n",
      "Saving planes_sgd artifacts to: artifacts/planes_sgd\n",
      "------------------------------------------------------\n",
      "Data [Total count]:\t420\n",
      "Data [Train count]:\t336\n",
      "Data [Test count] :\t84\n",
      "\n",
      "Epochs trained:\t\t1\n",
      "\n",
      "Training [epoch 2]:\tout of 20\n",
      "Training: 100% 84/84 [00:34<00:00,  2.40it/s]\n",
      "Validation: 100% 84/84 [00:04<00:00, 17.64it/s]\n",
      "Lowest val loss: 0.315559059381485\n",
      "\n",
      "Training [epoch 3]:\tout of 20\n",
      "Training: 100% 84/84 [00:34<00:00,  2.44it/s]\n",
      "Validation: 100% 84/84 [00:04<00:00, 17.13it/s]\n",
      "Lowest val loss: 0.2892908453941345\n",
      "\n",
      "Training [epoch 4]:\tout of 20\n",
      "Training: 100% 84/84 [00:34<00:00,  2.42it/s]\n",
      "Validation: 100% 84/84 [00:04<00:00, 17.10it/s]\n",
      "Lowest val loss: 0.2787298560142517\n",
      "\n",
      "Training [epoch 5]:\tout of 20\n",
      "Training: 100% 84/84 [00:34<00:00,  2.43it/s]\n",
      "Validation: 100% 84/84 [00:04<00:00, 17.22it/s]\n",
      "creating index...\n",
      "index created!\n",
      "Test:  [ 0/84]  eta: 0:00:13  model_time: 0.0511 (0.0511)  evaluator_time: 0.0041 (0.0041)  time: 0.1603  data: 0.1032  max mem: 3280\n",
      "Test:  [83/84]  eta: 0:00:00  model_time: 0.0480 (0.0482)  evaluator_time: 0.0014 (0.0025)  time: 0.0553  data: 0.0036  max mem: 3280\n",
      "Test: Total time: 0:00:04 (0.0571 s / it)\n",
      "Averaged stats: model_time: 0.0480 (0.0482)  evaluator_time: 0.0014 (0.0025)\n",
      "Accumulating evaluation results...\n",
      "DONE (t=0.03s).\n",
      "IoU metric: bbox\n",
      " Average Precision  (AP) @[ IoU=0.50:0.95 | area=   all | maxDets=100 ] = 0.083\n",
      " Average Precision  (AP) @[ IoU=0.50      | area=   all | maxDets=100 ] = 0.182\n",
      " Average Precision  (AP) @[ IoU=0.75      | area=   all | maxDets=100 ] = 0.058\n",
      " Average Precision  (AP) @[ IoU=0.50:0.95 | area= small | maxDets=100 ] = 0.169\n",
      " Average Precision  (AP) @[ IoU=0.50:0.95 | area=medium | maxDets=100 ] = 0.064\n",
      " Average Precision  (AP) @[ IoU=0.50:0.95 | area= large | maxDets=100 ] = 0.216\n",
      " Average Recall     (AR) @[ IoU=0.50:0.95 | area=   all | maxDets=  1 ] = 0.078\n",
      " Average Recall     (AR) @[ IoU=0.50:0.95 | area=   all | maxDets= 10 ] = 0.162\n",
      " Average Recall     (AR) @[ IoU=0.50:0.95 | area=   all | maxDets=100 ] = 0.168\n",
      " Average Recall     (AR) @[ IoU=0.50:0.95 | area= small | maxDets=100 ] = 0.400\n",
      " Average Recall     (AR) @[ IoU=0.50:0.95 | area=medium | maxDets=100 ] = 0.142\n",
      " Average Recall     (AR) @[ IoU=0.50:0.95 | area= large | maxDets=100 ] = 0.390\n",
      "Lowest val loss: 0.2763056457042694\n",
      "Saving eval run experiment artifacts at: artifacts/planes_sgd/weights_at_eval/5_epochs\n",
      "\n",
      "Training [epoch 6]:\tout of 20\n",
      "Training: 100% 84/84 [00:34<00:00,  2.46it/s]\n",
      "Validation: 100% 84/84 [00:04<00:00, 17.73it/s]\n",
      "Lowest val loss: 0.27359163761138916\n",
      "\n",
      "Training [epoch 7]:\tout of 20\n",
      "Training: 100% 84/84 [00:34<00:00,  2.46it/s]\n",
      "Validation: 100% 84/84 [00:04<00:00, 17.67it/s]\n",
      "Lowest val loss: 0.2627941071987152\n",
      "\n",
      "Training [epoch 8]:\tout of 20\n",
      "Training: 100% 84/84 [00:34<00:00,  2.46it/s]\n",
      "Validation: 100% 84/84 [00:04<00:00, 17.64it/s]\n",
      "Lowest val loss: 0.2582533359527588\n",
      "\n",
      "Training [epoch 9]:\tout of 20\n",
      "Training: 100% 84/84 [00:34<00:00,  2.46it/s]\n",
      "Validation: 100% 84/84 [00:04<00:00, 17.70it/s]\n",
      "Lowest val loss: 0.25278159976005554\n",
      "\n",
      "Training [epoch 10]:\tout of 20\n",
      "Training: 100% 84/84 [00:34<00:00,  2.46it/s]\n",
      "Validation: 100% 84/84 [00:04<00:00, 17.53it/s]\n",
      "creating index...\n",
      "index created!\n",
      "Test:  [ 0/84]  eta: 0:00:13  model_time: 0.0617 (0.0617)  evaluator_time: 0.0016 (0.0016)  time: 0.1625  data: 0.0972  max mem: 3280\n",
      "Test:  [83/84]  eta: 0:00:00  model_time: 0.0478 (0.0482)  evaluator_time: 0.0012 (0.0020)  time: 0.0548  data: 0.0035  max mem: 3280\n",
      "Test: Total time: 0:00:04 (0.0565 s / it)\n",
      "Averaged stats: model_time: 0.0478 (0.0482)  evaluator_time: 0.0012 (0.0020)\n",
      "Accumulating evaluation results...\n",
      "DONE (t=0.03s).\n",
      "IoU metric: bbox\n",
      " Average Precision  (AP) @[ IoU=0.50:0.95 | area=   all | maxDets=100 ] = 0.060\n",
      " Average Precision  (AP) @[ IoU=0.50      | area=   all | maxDets=100 ] = 0.127\n",
      " Average Precision  (AP) @[ IoU=0.75      | area=   all | maxDets=100 ] = 0.047\n",
      " Average Precision  (AP) @[ IoU=0.50:0.95 | area= small | maxDets=100 ] = 0.067\n",
      " Average Precision  (AP) @[ IoU=0.50:0.95 | area=medium | maxDets=100 ] = 0.045\n",
      " Average Precision  (AP) @[ IoU=0.50:0.95 | area= large | maxDets=100 ] = 0.156\n",
      " Average Recall     (AR) @[ IoU=0.50:0.95 | area=   all | maxDets=  1 ] = 0.067\n",
      " Average Recall     (AR) @[ IoU=0.50:0.95 | area=   all | maxDets= 10 ] = 0.130\n",
      " Average Recall     (AR) @[ IoU=0.50:0.95 | area=   all | maxDets=100 ] = 0.135\n",
      " Average Recall     (AR) @[ IoU=0.50:0.95 | area= small | maxDets=100 ] = 0.133\n",
      " Average Recall     (AR) @[ IoU=0.50:0.95 | area=medium | maxDets=100 ] = 0.115\n",
      " Average Recall     (AR) @[ IoU=0.50:0.95 | area= large | maxDets=100 ] = 0.320\n",
      "Lowest val loss: 0.2541257441043854\n",
      "Saving eval run experiment artifacts at: artifacts/planes_sgd/weights_at_eval/10_epochs\n",
      "\n",
      "Training [epoch 11]:\tout of 20\n",
      "Training: 100% 84/84 [00:34<00:00,  2.45it/s]\n",
      "Validation: 100% 84/84 [00:04<00:00, 17.55it/s]\n",
      "Lowest val loss: 0.259634405374527\n",
      "\n",
      "Training [epoch 12]:\tout of 20\n",
      "Training: 100% 84/84 [00:34<00:00,  2.46it/s]\n",
      "Validation: 100% 84/84 [00:04<00:00, 17.52it/s]\n",
      "Lowest val loss: 0.2488044947385788\n",
      "\n",
      "Training [epoch 13]:\tout of 20\n",
      "Training: 100% 84/84 [00:34<00:00,  2.45it/s]\n",
      "Validation: 100% 84/84 [00:04<00:00, 17.70it/s]\n",
      "Lowest val loss: 0.2466096580028534\n",
      "\n",
      "Training [epoch 14]:\tout of 20\n",
      "Training: 100% 84/84 [00:34<00:00,  2.46it/s]\n",
      "Validation: 100% 84/84 [00:04<00:00, 17.55it/s]\n",
      "Lowest val loss: 0.243507981300354\n",
      "\n",
      "Training [epoch 15]:\tout of 20\n",
      "Training: 100% 84/84 [00:34<00:00,  2.46it/s]\n",
      "Validation: 100% 84/84 [00:04<00:00, 17.70it/s]\n",
      "creating index...\n",
      "index created!\n",
      "Test:  [ 0/84]  eta: 0:00:13  model_time: 0.0586 (0.0586)  evaluator_time: 0.0018 (0.0018)  time: 0.1600  data: 0.0977  max mem: 3280\n",
      "Test:  [83/84]  eta: 0:00:00  model_time: 0.0474 (0.0476)  evaluator_time: 0.0014 (0.0019)  time: 0.0541  data: 0.0035  max mem: 3280\n",
      "Test: Total time: 0:00:04 (0.0560 s / it)\n",
      "Averaged stats: model_time: 0.0474 (0.0476)  evaluator_time: 0.0014 (0.0019)\n",
      "Accumulating evaluation results...\n",
      "DONE (t=0.03s).\n",
      "IoU metric: bbox\n",
      " Average Precision  (AP) @[ IoU=0.50:0.95 | area=   all | maxDets=100 ] = 0.071\n",
      " Average Precision  (AP) @[ IoU=0.50      | area=   all | maxDets=100 ] = 0.140\n",
      " Average Precision  (AP) @[ IoU=0.75      | area=   all | maxDets=100 ] = 0.064\n",
      " Average Precision  (AP) @[ IoU=0.50:0.95 | area= small | maxDets=100 ] = 0.236\n",
      " Average Precision  (AP) @[ IoU=0.50:0.95 | area=medium | maxDets=100 ] = 0.052\n",
      " Average Precision  (AP) @[ IoU=0.50:0.95 | area= large | maxDets=100 ] = 0.187\n",
      " Average Recall     (AR) @[ IoU=0.50:0.95 | area=   all | maxDets=  1 ] = 0.079\n",
      " Average Recall     (AR) @[ IoU=0.50:0.95 | area=   all | maxDets= 10 ] = 0.142\n",
      " Average Recall     (AR) @[ IoU=0.50:0.95 | area=   all | maxDets=100 ] = 0.146\n",
      " Average Recall     (AR) @[ IoU=0.50:0.95 | area= small | maxDets=100 ] = 0.233\n",
      " Average Recall     (AR) @[ IoU=0.50:0.95 | area=medium | maxDets=100 ] = 0.143\n",
      " Average Recall     (AR) @[ IoU=0.50:0.95 | area= large | maxDets=100 ] = 0.303\n",
      "Lowest val loss: 0.24323081970214844\n",
      "Saving eval run experiment artifacts at: artifacts/planes_sgd/weights_at_eval/15_epochs\n",
      "\n",
      "Training [epoch 16]:\tout of 20\n",
      "Training: 100% 84/84 [00:34<00:00,  2.46it/s]\n",
      "Validation: 100% 84/84 [00:04<00:00, 17.58it/s]\n",
      "Lowest val loss: 0.24756856262683868\n",
      "\n",
      "Training [epoch 17]:\tout of 20\n",
      "Training: 100% 84/84 [00:34<00:00,  2.46it/s]\n",
      "Validation: 100% 84/84 [00:04<00:00, 17.68it/s]\n",
      "Lowest val loss: 0.2363635003566742\n",
      "\n",
      "Training [epoch 18]:\tout of 20\n",
      "Training: 100% 84/84 [00:34<00:00,  2.46it/s]\n",
      "Validation: 100% 84/84 [00:04<00:00, 17.62it/s]\n",
      "Lowest val loss: 0.2474210113286972\n",
      "\n",
      "Training [epoch 19]:\tout of 20\n",
      "Training: 100% 84/84 [00:34<00:00,  2.46it/s]\n",
      "Validation: 100% 84/84 [00:04<00:00, 17.73it/s]\n",
      "Lowest val loss: 0.2405892312526703\n",
      "\n",
      "Training [epoch 20]:\tout of 20\n",
      "Training: 100% 84/84 [00:34<00:00,  2.46it/s]\n",
      "Validation: 100% 84/84 [00:04<00:00, 17.57it/s]\n",
      "creating index...\n",
      "index created!\n",
      "Test:  [ 0/84]  eta: 0:00:13  model_time: 0.0533 (0.0533)  evaluator_time: 0.0024 (0.0024)  time: 0.1607  data: 0.1029  max mem: 3280\n",
      "Test:  [83/84]  eta: 0:00:00  model_time: 0.0474 (0.0476)  evaluator_time: 0.0014 (0.0021)  time: 0.0542  data: 0.0034  max mem: 3280\n",
      "Test: Total time: 0:00:04 (0.0563 s / it)\n",
      "Averaged stats: model_time: 0.0474 (0.0476)  evaluator_time: 0.0014 (0.0021)\n",
      "Accumulating evaluation results...\n",
      "DONE (t=0.03s).\n",
      "IoU metric: bbox\n",
      " Average Precision  (AP) @[ IoU=0.50:0.95 | area=   all | maxDets=100 ] = 0.039\n",
      " Average Precision  (AP) @[ IoU=0.50      | area=   all | maxDets=100 ] = 0.080\n",
      " Average Precision  (AP) @[ IoU=0.75      | area=   all | maxDets=100 ] = 0.030\n",
      " Average Precision  (AP) @[ IoU=0.50:0.95 | area= small | maxDets=100 ] = 0.000\n",
      " Average Precision  (AP) @[ IoU=0.50:0.95 | area=medium | maxDets=100 ] = 0.028\n",
      " Average Precision  (AP) @[ IoU=0.50:0.95 | area= large | maxDets=100 ] = 0.106\n",
      " Average Recall     (AR) @[ IoU=0.50:0.95 | area=   all | maxDets=  1 ] = 0.073\n",
      " Average Recall     (AR) @[ IoU=0.50:0.95 | area=   all | maxDets= 10 ] = 0.118\n",
      " Average Recall     (AR) @[ IoU=0.50:0.95 | area=   all | maxDets=100 ] = 0.122\n",
      " Average Recall     (AR) @[ IoU=0.50:0.95 | area= small | maxDets=100 ] = 0.000\n",
      " Average Recall     (AR) @[ IoU=0.50:0.95 | area=medium | maxDets=100 ] = 0.113\n",
      " Average Recall     (AR) @[ IoU=0.50:0.95 | area= large | maxDets=100 ] = 0.248\n",
      "Lowest val loss: 0.23369935154914856\n",
      "Saving eval run experiment artifacts at: artifacts/planes_sgd/weights_at_eval/20_epochs\n"
     ]
    }
   ],
   "source": [
    "! python3 strategy_real.py -d 'artifacts' -n 'planes_sgd' -bs 4 -e 20 -s 5 -o sgd -lr 0.0001"
   ]
  },
  {
   "cell_type": "markdown",
   "metadata": {
    "id": "lJ0rjG3PRUk-"
   },
   "source": [
    "## Run analysis\n",
    "- display training, validation losses\n",
    "- display minimum training and validation losses\n",
    "- display COCO eval data\n",
    "- save loss graph in `artifacts/` under `/project_name/`"
   ]
  },
  {
   "cell_type": "code",
   "execution_count": null,
   "metadata": {
    "colab": {
     "base_uri": "https://localhost:8080/"
    },
    "id": "EcVthqmkr9YV",
    "outputId": "b35f9957-0d04-40c8-bada-84243e84ed66"
   },
   "outputs": [
    {
     "name": "stdout",
     "output_type": "stream",
     "text": [
      "\n",
      "-------------------------------------------------------------------------------\n",
      "Analysis for |FasterRCNN_ResNet50: 20 epochs of training|\n",
      "-------------------------------------------------------------------------------\n",
      "\n",
      "Training loss:\t\t[0.43275744, 0.31555906, 0.28929085, 0.27872986, 0.27630565, 0.27359164, 0.2627941, 0.25825334, 0.2527816, 0.25412574, 0.2596344, 0.2488045, 0.24660966, 0.24350798, 0.24323082, 0.24756856, 0.2363635, 0.24742101, 0.24058923, 0.23369935]\n",
      "\n",
      "Validation loss:\t[0.31163087, 0.27565303, 0.28195944, 0.253033, 0.27234176, 0.23692101, 0.2609059, 0.27034396, 0.2517452, 0.23832543, 0.24327573, 0.25859377, 0.2761698, 0.24829699, 0.24384728, 0.2362412, 0.27521554, 0.27554762, 0.24550822, 0.24763258]\n",
      "\n",
      "Lowest Training loss:\t0.23369935154914856\n",
      "\n",
      "Lowest Validation loss:\t0.2362412065267563\n",
      "\n",
      "Final eval data:\n",
      "\n",
      "IoU metric: bbox\n",
      " Average Precision  (AP) @[ IoU=0.50:0.95 | area=   all | maxDets=100 ] = 0.039\n",
      " Average Precision  (AP) @[ IoU=0.50      | area=   all | maxDets=100 ] = 0.080\n",
      " Average Precision  (AP) @[ IoU=0.75      | area=   all | maxDets=100 ] = 0.030\n",
      " Average Precision  (AP) @[ IoU=0.50:0.95 | area= small | maxDets=100 ] = 0.000\n",
      " Average Precision  (AP) @[ IoU=0.50:0.95 | area=medium | maxDets=100 ] = 0.028\n",
      " Average Precision  (AP) @[ IoU=0.50:0.95 | area= large | maxDets=100 ] = 0.106\n",
      " Average Recall     (AR) @[ IoU=0.50:0.95 | area=   all | maxDets=  1 ] = 0.073\n",
      " Average Recall     (AR) @[ IoU=0.50:0.95 | area=   all | maxDets= 10 ] = 0.118\n",
      " Average Recall     (AR) @[ IoU=0.50:0.95 | area=   all | maxDets=100 ] = 0.122\n",
      " Average Recall     (AR) @[ IoU=0.50:0.95 | area= small | maxDets=100 ] = 0.000\n",
      " Average Recall     (AR) @[ IoU=0.50:0.95 | area=medium | maxDets=100 ] = 0.113\n",
      " Average Recall     (AR) @[ IoU=0.50:0.95 | area= large | maxDets=100 ] = 0.248\n",
      "\n",
      "-------------------------------------------------------------------------------\n",
      "Saving analysis artifacts to: artifacts/planes_sgd/analysis/Loss Graph.png\n",
      "-------------------------------------------------------------------------------\n",
      "\n"
     ]
    }
   ],
   "source": [
    "!python3 analysis.py -d 'artifacts' -n 'planes_sgd'"
   ]
  },
  {
   "cell_type": "markdown",
   "metadata": {
    "id": "VchHWDKRRv5I"
   },
   "source": [
    "## Run inference on random image from test set using trained model to create detections\n",
    "- Ground truth annotation\n",
    "- Raw detection\n",
    "- Confidence Score threshold of 0.5\n",
    "- save loss graph in `artifacts/` under `/project_name/`"
   ]
  },
  {
   "cell_type": "code",
   "execution_count": null,
   "metadata": {
    "colab": {
     "base_uri": "https://localhost:8080/"
    },
    "id": "Xs5vxyz0r9ca",
    "outputId": "54710fab-7391-4d88-d969-f6b16e65cbe8"
   },
   "outputs": [
    {
     "name": "stdout",
     "output_type": "stream",
     "text": [
      "\n",
      "-------------------------------------------------------------------------------\n",
      "Detections with |FasterRCNN_ResNet50: 20 epochs of training|\n",
      "-------------------------------------------------------------------------------\n",
      "\n",
      "-------------------------------------------------------------------------------\n",
      "Saving detection artifacts to: artifacts/planes_sgd/analysis/\n",
      "-------------------------------------------------------------------------------\n",
      "\n"
     ]
    }
   ],
   "source": [
    "!python3 detections.py -d 'artifacts' -n 'planes_sgd'"
   ]
  },
  {
   "cell_type": "markdown",
   "metadata": {
    "id": "90KS3AcqylNC"
   },
   "source": [
    "## Train FasterRCNN_ResNet50\n",
    "- 336 Training samples\n",
    "- 84 Test samples\n",
    "- 20 Epochs\n",
    "- Save loss, eval, and model weights every 5 epochs\n",
    "- Save weights every epoch\n",
    "- `Adam` optimizer\n",
    "- Learning rate of 0.0001"
   ]
  },
  {
   "cell_type": "code",
   "execution_count": null,
   "metadata": {
    "colab": {
     "base_uri": "https://localhost:8080/"
    },
    "id": "wdXOCRVJyahB",
    "outputId": "2f241f1c-f266-4c7d-e0ec-bfe8c6fa1d61"
   },
   "outputs": [
    {
     "name": "stdout",
     "output_type": "stream",
     "text": [
      "------------------------------------------------------\n",
      "Training: FasterRCNN_ResNet50\n",
      "\n",
      "Saving planes_adam artifacts to: artifacts/planes_adam\n",
      "------------------------------------------------------\n",
      "Data [Total count]:\t420\n",
      "Data [Train count]:\t336\n",
      "Data [Test count] :\t84\n",
      "\n",
      "Training [epoch 1]:\tout of 20\n",
      "Training: 100% 84/84 [00:35<00:00,  2.36it/s]\n",
      "Validation: 100% 84/84 [00:04<00:00, 17.71it/s]\n",
      "Lowest val loss: 0.3817580044269562\n",
      "\n",
      "Training [epoch 2]:\tout of 20\n",
      "Training: 100% 84/84 [00:34<00:00,  2.43it/s]\n",
      "Validation: 100% 84/84 [00:04<00:00, 17.81it/s]\n",
      "Lowest val loss: 0.2954168915748596\n",
      "\n",
      "Training [epoch 3]:\tout of 20\n",
      "Training: 100% 84/84 [00:34<00:00,  2.43it/s]\n",
      "Validation: 100% 84/84 [00:04<00:00, 17.76it/s]\n",
      "Lowest val loss: 0.2690902352333069\n",
      "\n",
      "Training [epoch 4]:\tout of 20\n",
      "Training: 100% 84/84 [00:34<00:00,  2.43it/s]\n",
      "Validation: 100% 84/84 [00:04<00:00, 17.81it/s]\n",
      "Lowest val loss: 0.258277952671051\n",
      "\n",
      "Training [epoch 5]:\tout of 20\n",
      "Training: 100% 84/84 [00:34<00:00,  2.43it/s]\n",
      "Validation: 100% 84/84 [00:04<00:00, 17.71it/s]\n",
      "creating index...\n",
      "index created!\n",
      "Test:  [ 0/84]  eta: 0:00:14  model_time: 0.0506 (0.0506)  evaluator_time: 0.0052 (0.0052)  time: 0.1742  data: 0.1165  max mem: 3592\n",
      "Test:  [83/84]  eta: 0:00:00  model_time: 0.0474 (0.0476)  evaluator_time: 0.0019 (0.0029)  time: 0.0547  data: 0.0034  max mem: 3592\n",
      "Test: Total time: 0:00:04 (0.0572 s / it)\n",
      "Averaged stats: model_time: 0.0474 (0.0476)  evaluator_time: 0.0019 (0.0029)\n",
      "Accumulating evaluation results...\n",
      "DONE (t=0.03s).\n",
      "IoU metric: bbox\n",
      " Average Precision  (AP) @[ IoU=0.50:0.95 | area=   all | maxDets=100 ] = 0.116\n",
      " Average Precision  (AP) @[ IoU=0.50      | area=   all | maxDets=100 ] = 0.239\n",
      " Average Precision  (AP) @[ IoU=0.75      | area=   all | maxDets=100 ] = 0.096\n",
      " Average Precision  (AP) @[ IoU=0.50:0.95 | area= small | maxDets=100 ] = 0.202\n",
      " Average Precision  (AP) @[ IoU=0.50:0.95 | area=medium | maxDets=100 ] = 0.095\n",
      " Average Precision  (AP) @[ IoU=0.50:0.95 | area= large | maxDets=100 ] = 0.196\n",
      " Average Recall     (AR) @[ IoU=0.50:0.95 | area=   all | maxDets=  1 ] = 0.103\n",
      " Average Recall     (AR) @[ IoU=0.50:0.95 | area=   all | maxDets= 10 ] = 0.229\n",
      " Average Recall     (AR) @[ IoU=0.50:0.95 | area=   all | maxDets=100 ] = 0.238\n",
      " Average Recall     (AR) @[ IoU=0.50:0.95 | area= small | maxDets=100 ] = 0.200\n",
      " Average Recall     (AR) @[ IoU=0.50:0.95 | area=medium | maxDets=100 ] = 0.214\n",
      " Average Recall     (AR) @[ IoU=0.50:0.95 | area= large | maxDets=100 ] = 0.314\n",
      "Lowest val loss: 0.25630125403404236\n",
      "Saving eval run experiment artifacts at: artifacts/planes_adam/weights_at_eval/5_epochs\n",
      "\n",
      "Training [epoch 6]:\tout of 20\n",
      "Training: 100% 84/84 [00:34<00:00,  2.43it/s]\n",
      "Validation: 100% 84/84 [00:04<00:00, 17.86it/s]\n",
      "Lowest val loss: 0.253128319978714\n",
      "\n",
      "Training [epoch 7]:\tout of 20\n",
      "Training: 100% 84/84 [00:34<00:00,  2.43it/s]\n",
      "Validation: 100% 84/84 [00:04<00:00, 17.80it/s]\n",
      "Lowest val loss: 0.2538049519062042\n",
      "\n",
      "Training [epoch 8]:\tout of 20\n",
      "Training: 100% 84/84 [00:34<00:00,  2.43it/s]\n",
      "Validation: 100% 84/84 [00:04<00:00, 17.81it/s]\n",
      "Lowest val loss: 0.2356368899345398\n",
      "\n",
      "Training [epoch 9]:\tout of 20\n",
      "Training: 100% 84/84 [00:34<00:00,  2.43it/s]\n",
      "Validation: 100% 84/84 [00:04<00:00, 17.79it/s]\n",
      "Lowest val loss: 0.2337692826986313\n",
      "\n",
      "Training [epoch 10]:\tout of 20\n",
      "Training: 100% 84/84 [00:34<00:00,  2.43it/s]\n",
      "Validation: 100% 84/84 [00:04<00:00, 17.84it/s]\n",
      "creating index...\n",
      "index created!\n",
      "Test:  [ 0/84]  eta: 0:00:13  model_time: 0.0612 (0.0612)  evaluator_time: 0.0020 (0.0020)  time: 0.1635  data: 0.0984  max mem: 3592\n",
      "Test:  [83/84]  eta: 0:00:00  model_time: 0.0473 (0.0476)  evaluator_time: 0.0011 (0.0014)  time: 0.0533  data: 0.0033  max mem: 3592\n",
      "Test: Total time: 0:00:04 (0.0554 s / it)\n",
      "Averaged stats: model_time: 0.0473 (0.0476)  evaluator_time: 0.0011 (0.0014)\n",
      "Accumulating evaluation results...\n",
      "DONE (t=0.02s).\n",
      "IoU metric: bbox\n",
      " Average Precision  (AP) @[ IoU=0.50:0.95 | area=   all | maxDets=100 ] = 0.071\n",
      " Average Precision  (AP) @[ IoU=0.50      | area=   all | maxDets=100 ] = 0.174\n",
      " Average Precision  (AP) @[ IoU=0.75      | area=   all | maxDets=100 ] = 0.045\n",
      " Average Precision  (AP) @[ IoU=0.50:0.95 | area= small | maxDets=100 ] = 0.101\n",
      " Average Precision  (AP) @[ IoU=0.50:0.95 | area=medium | maxDets=100 ] = 0.077\n",
      " Average Precision  (AP) @[ IoU=0.50:0.95 | area= large | maxDets=100 ] = 0.140\n",
      " Average Recall     (AR) @[ IoU=0.50:0.95 | area=   all | maxDets=  1 ] = 0.113\n",
      " Average Recall     (AR) @[ IoU=0.50:0.95 | area=   all | maxDets= 10 ] = 0.174\n",
      " Average Recall     (AR) @[ IoU=0.50:0.95 | area=   all | maxDets=100 ] = 0.177\n",
      " Average Recall     (AR) @[ IoU=0.50:0.95 | area= small | maxDets=100 ] = 0.200\n",
      " Average Recall     (AR) @[ IoU=0.50:0.95 | area=medium | maxDets=100 ] = 0.180\n",
      " Average Recall     (AR) @[ IoU=0.50:0.95 | area= large | maxDets=100 ] = 0.276\n",
      "Lowest val loss: 0.2262723743915558\n",
      "Saving eval run experiment artifacts at: artifacts/planes_adam/weights_at_eval/10_epochs\n",
      "\n",
      "Training [epoch 11]:\tout of 20\n",
      "Training: 100% 84/84 [00:34<00:00,  2.43it/s]\n",
      "Validation: 100% 84/84 [00:04<00:00, 17.73it/s]\n",
      "Lowest val loss: 0.22427581250667572\n",
      "\n",
      "Training [epoch 12]:\tout of 20\n",
      "Training: 100% 84/84 [00:34<00:00,  2.43it/s]\n",
      "Validation: 100% 84/84 [00:04<00:00, 17.77it/s]\n",
      "Lowest val loss: 0.21093598008155823\n",
      "\n",
      "Training [epoch 13]:\tout of 20\n",
      "Training: 100% 84/84 [00:34<00:00,  2.43it/s]\n",
      "Validation: 100% 84/84 [00:04<00:00, 17.80it/s]\n",
      "Lowest val loss: 0.2013334482908249\n",
      "\n",
      "Training [epoch 14]:\tout of 20\n",
      "Training: 100% 84/84 [00:34<00:00,  2.43it/s]\n",
      "Validation: 100% 84/84 [00:04<00:00, 17.69it/s]\n",
      "Lowest val loss: 0.17612199485301971\n",
      "\n",
      "Training [epoch 15]:\tout of 20\n",
      "Training: 100% 84/84 [00:34<00:00,  2.43it/s]\n",
      "Validation: 100% 84/84 [00:04<00:00, 17.73it/s]\n",
      "creating index...\n",
      "index created!\n",
      "Test:  [ 0/84]  eta: 0:00:14  model_time: 0.0506 (0.0506)  evaluator_time: 0.0017 (0.0017)  time: 0.1765  data: 0.1224  max mem: 3592\n",
      "Test:  [83/84]  eta: 0:00:00  model_time: 0.0475 (0.0476)  evaluator_time: 0.0011 (0.0016)  time: 0.0541  data: 0.0040  max mem: 3592\n",
      "Test: Total time: 0:00:04 (0.0560 s / it)\n",
      "Averaged stats: model_time: 0.0475 (0.0476)  evaluator_time: 0.0011 (0.0016)\n",
      "Accumulating evaluation results...\n",
      "DONE (t=0.02s).\n",
      "IoU metric: bbox\n",
      " Average Precision  (AP) @[ IoU=0.50:0.95 | area=   all | maxDets=100 ] = 0.053\n",
      " Average Precision  (AP) @[ IoU=0.50      | area=   all | maxDets=100 ] = 0.127\n",
      " Average Precision  (AP) @[ IoU=0.75      | area=   all | maxDets=100 ] = 0.032\n",
      " Average Precision  (AP) @[ IoU=0.50:0.95 | area= small | maxDets=100 ] = 0.101\n",
      " Average Precision  (AP) @[ IoU=0.50:0.95 | area=medium | maxDets=100 ] = 0.028\n",
      " Average Precision  (AP) @[ IoU=0.50:0.95 | area= large | maxDets=100 ] = 0.168\n",
      " Average Recall     (AR) @[ IoU=0.50:0.95 | area=   all | maxDets=  1 ] = 0.055\n",
      " Average Recall     (AR) @[ IoU=0.50:0.95 | area=   all | maxDets= 10 ] = 0.104\n",
      " Average Recall     (AR) @[ IoU=0.50:0.95 | area=   all | maxDets=100 ] = 0.108\n",
      " Average Recall     (AR) @[ IoU=0.50:0.95 | area= small | maxDets=100 ] = 0.200\n",
      " Average Recall     (AR) @[ IoU=0.50:0.95 | area=medium | maxDets=100 ] = 0.095\n",
      " Average Recall     (AR) @[ IoU=0.50:0.95 | area= large | maxDets=100 ] = 0.245\n",
      "Lowest val loss: 0.20377475023269653\n",
      "Saving eval run experiment artifacts at: artifacts/planes_adam/weights_at_eval/15_epochs\n",
      "\n",
      "Training [epoch 16]:\tout of 20\n",
      "Training: 100% 84/84 [00:34<00:00,  2.42it/s]\n",
      "Validation: 100% 84/84 [00:04<00:00, 17.83it/s]\n",
      "Lowest val loss: 0.17089813947677612\n",
      "\n",
      "Training [epoch 17]:\tout of 20\n",
      "Training: 100% 84/84 [00:34<00:00,  2.43it/s]\n",
      "Validation: 100% 84/84 [00:04<00:00, 17.78it/s]\n",
      "Lowest val loss: 0.16368219256401062\n",
      "\n",
      "Training [epoch 18]:\tout of 20\n",
      "Training: 100% 84/84 [00:34<00:00,  2.43it/s]\n",
      "Validation: 100% 84/84 [00:04<00:00, 17.67it/s]\n",
      "Lowest val loss: 0.16572454571723938\n",
      "\n",
      "Training [epoch 19]:\tout of 20\n",
      "Training: 100% 84/84 [00:34<00:00,  2.43it/s]\n",
      "Validation: 100% 84/84 [00:04<00:00, 17.65it/s]\n",
      "Lowest val loss: 0.14703527092933655\n",
      "\n",
      "Training [epoch 20]:\tout of 20\n",
      "Training: 100% 84/84 [00:34<00:00,  2.43it/s]\n",
      "Validation: 100% 84/84 [00:04<00:00, 17.72it/s]\n",
      "creating index...\n",
      "index created!\n",
      "Test:  [ 0/84]  eta: 0:00:13  model_time: 0.0512 (0.0512)  evaluator_time: 0.0018 (0.0018)  time: 0.1628  data: 0.1078  max mem: 3592\n",
      "Test:  [83/84]  eta: 0:00:00  model_time: 0.0473 (0.0475)  evaluator_time: 0.0008 (0.0010)  time: 0.0527  data: 0.0033  max mem: 3592\n",
      "Test: Total time: 0:00:04 (0.0550 s / it)\n",
      "Averaged stats: model_time: 0.0473 (0.0475)  evaluator_time: 0.0008 (0.0010)\n",
      "Accumulating evaluation results...\n",
      "DONE (t=0.02s).\n",
      "IoU metric: bbox\n",
      " Average Precision  (AP) @[ IoU=0.50:0.95 | area=   all | maxDets=100 ] = 0.102\n",
      " Average Precision  (AP) @[ IoU=0.50      | area=   all | maxDets=100 ] = 0.185\n",
      " Average Precision  (AP) @[ IoU=0.75      | area=   all | maxDets=100 ] = 0.113\n",
      " Average Precision  (AP) @[ IoU=0.50:0.95 | area= small | maxDets=100 ] = 0.465\n",
      " Average Precision  (AP) @[ IoU=0.50:0.95 | area=medium | maxDets=100 ] = 0.100\n",
      " Average Precision  (AP) @[ IoU=0.50:0.95 | area= large | maxDets=100 ] = 0.207\n",
      " Average Recall     (AR) @[ IoU=0.50:0.95 | area=   all | maxDets=  1 ] = 0.098\n",
      " Average Recall     (AR) @[ IoU=0.50:0.95 | area=   all | maxDets= 10 ] = 0.168\n",
      " Average Recall     (AR) @[ IoU=0.50:0.95 | area=   all | maxDets=100 ] = 0.169\n",
      " Average Recall     (AR) @[ IoU=0.50:0.95 | area= small | maxDets=100 ] = 0.533\n",
      " Average Recall     (AR) @[ IoU=0.50:0.95 | area=medium | maxDets=100 ] = 0.145\n",
      " Average Recall     (AR) @[ IoU=0.50:0.95 | area= large | maxDets=100 ] = 0.313\n",
      "Lowest val loss: 0.14317350089550018\n",
      "Saving eval run experiment artifacts at: artifacts/planes_adam/weights_at_eval/20_epochs\n"
     ]
    }
   ],
   "source": [
    "! python3 train_custom.py -d 'artifacts' -n 'planes_adam' -bs 4 -e 20 -s 5 -o adam -lr 0.0001"
   ]
  },
  {
   "cell_type": "markdown",
   "metadata": {
    "id": "gBnxIzbBRsXN"
   },
   "source": [
    "## Run analysis\n",
    "- display training, validation losses\n",
    "- display minimum training and validation losses\n",
    "- display COCO eval data\n",
    "- save loss graph in `artifacts/` under `/project_name/`"
   ]
  },
  {
   "cell_type": "code",
   "execution_count": null,
   "metadata": {
    "colab": {
     "base_uri": "https://localhost:8080/"
    },
    "id": "eD8woGqNyahD",
    "outputId": "9d28aefe-b297-4766-ff32-7c4e62e28031"
   },
   "outputs": [
    {
     "name": "stdout",
     "output_type": "stream",
     "text": [
      "\n",
      "-------------------------------------------------------------------------------\n",
      "Analysis for |FasterRCNN_ResNet50: 20 epochs of training|\n",
      "-------------------------------------------------------------------------------\n",
      "\n",
      "Training loss:\t\t[0.381758, 0.2954169, 0.26909024, 0.25827795, 0.25630125, 0.25312832, 0.25380495, 0.23563689, 0.23376928, 0.22627237, 0.22427581, 0.21093598, 0.20133345, 0.176122, 0.20377475, 0.17089814, 0.1636822, 0.16572455, 0.14703527, 0.1431735]\n",
      "\n",
      "Validation loss:\t[0.29936928, 0.26704237, 0.24827394, 0.25533026, 0.24830672, 0.26493812, 0.26236802, 0.25909114, 0.2726265, 0.2739017, 0.25594267, 0.27595186, 0.25544313, 0.26347837, 0.2854851, 0.27301016, 0.33793807, 0.32353577, 0.3430412, 0.3597327]\n",
      "\n",
      "Lowest Training loss:\t0.14317350089550018\n",
      "\n",
      "Lowest Validation loss:\t0.24827393889427185\n",
      "\n",
      "Final eval data:\n",
      "\n",
      "IoU metric: bbox\n",
      " Average Precision  (AP) @[ IoU=0.50:0.95 | area=   all | maxDets=100 ] = 0.102\n",
      " Average Precision  (AP) @[ IoU=0.50      | area=   all | maxDets=100 ] = 0.185\n",
      " Average Precision  (AP) @[ IoU=0.75      | area=   all | maxDets=100 ] = 0.113\n",
      " Average Precision  (AP) @[ IoU=0.50:0.95 | area= small | maxDets=100 ] = 0.465\n",
      " Average Precision  (AP) @[ IoU=0.50:0.95 | area=medium | maxDets=100 ] = 0.100\n",
      " Average Precision  (AP) @[ IoU=0.50:0.95 | area= large | maxDets=100 ] = 0.207\n",
      " Average Recall     (AR) @[ IoU=0.50:0.95 | area=   all | maxDets=  1 ] = 0.098\n",
      " Average Recall     (AR) @[ IoU=0.50:0.95 | area=   all | maxDets= 10 ] = 0.168\n",
      " Average Recall     (AR) @[ IoU=0.50:0.95 | area=   all | maxDets=100 ] = 0.169\n",
      " Average Recall     (AR) @[ IoU=0.50:0.95 | area= small | maxDets=100 ] = 0.533\n",
      " Average Recall     (AR) @[ IoU=0.50:0.95 | area=medium | maxDets=100 ] = 0.145\n",
      " Average Recall     (AR) @[ IoU=0.50:0.95 | area= large | maxDets=100 ] = 0.313\n",
      "\n",
      "-------------------------------------------------------------------------------\n",
      "Saving analysis artifacts to: artifacts/planes_adam/analysis/Loss Graph.png\n",
      "-------------------------------------------------------------------------------\n",
      "\n"
     ]
    }
   ],
   "source": [
    "!python3 analysis.py -d 'artifacts' -n 'planes_adam'"
   ]
  },
  {
   "cell_type": "markdown",
   "metadata": {
    "id": "fpQ7x8eeSERK"
   },
   "source": [
    "## Run inference on random image from test set using trained model to create detections\n",
    "- Ground truth annotation\n",
    "- Raw detection\n",
    "- Confidence Score threshold of 0.5\n",
    "- save loss graph in `artifacts/` under `/project_name/`"
   ]
  },
  {
   "cell_type": "code",
   "execution_count": null,
   "metadata": {
    "colab": {
     "base_uri": "https://localhost:8080/"
    },
    "id": "g4SftKfNyahD",
    "outputId": "2d13a33b-f554-4af2-d501-8876fe94563c"
   },
   "outputs": [
    {
     "name": "stdout",
     "output_type": "stream",
     "text": [
      "\n",
      "-------------------------------------------------------------------------------\n",
      "Detections with |FasterRCNN_ResNet50: 20 epochs of training|\n",
      "-------------------------------------------------------------------------------\n",
      "\n",
      "-------------------------------------------------------------------------------\n",
      "Saving detection artifacts to: artifacts/planes_adam/analysis/\n",
      "-------------------------------------------------------------------------------\n",
      "\n"
     ]
    }
   ],
   "source": [
    "!python3 detections.py -d 'artifacts' -n 'planes_adam'"
   ]
  },
  {
   "cell_type": "markdown",
   "metadata": {
    "id": "dEzH_o21Uf-7"
   },
   "source": [
    "# Run this cell if there are any errors with Colab notebook runtime not being able to find `pycocotools`"
   ]
  },
  {
   "cell_type": "code",
   "execution_count": null,
   "metadata": {
    "colab": {
     "base_uri": "https://localhost:8080/"
    },
    "id": "GM6sOiPa9GfW",
    "outputId": "713941cc-233e-40c8-df48-5672fe50c66d"
   },
   "outputs": [
    {
     "name": "stdout",
     "output_type": "stream",
     "text": [
      "Looking in indexes: https://pypi.org/simple, https://us-python.pkg.dev/colab-wheels/public/simple/\n",
      "Requirement already satisfied: cython in /usr/local/lib/python3.7/dist-packages (0.29.32)\n",
      "Looking in indexes: https://pypi.org/simple, https://us-python.pkg.dev/colab-wheels/public/simple/\n",
      "Collecting git+https://github.com/cocodataset/cocoapi.git#subdirectory=PythonAPI\n",
      "  Cloning https://github.com/cocodataset/cocoapi.git to /tmp/pip-req-build-xzv8mf9c\n",
      "  Running command git clone -q https://github.com/cocodataset/cocoapi.git /tmp/pip-req-build-xzv8mf9c\n",
      "Requirement already satisfied: setuptools>=18.0 in /usr/local/lib/python3.7/dist-packages (from pycocotools==2.0) (57.4.0)\n",
      "Requirement already satisfied: cython>=0.27.3 in /usr/local/lib/python3.7/dist-packages (from pycocotools==2.0) (0.29.32)\n",
      "Requirement already satisfied: matplotlib>=2.1.0 in /usr/local/lib/python3.7/dist-packages (from pycocotools==2.0) (3.2.2)\n",
      "Requirement already satisfied: numpy>=1.11 in /usr/local/lib/python3.7/dist-packages (from matplotlib>=2.1.0->pycocotools==2.0) (1.21.6)\n",
      "Requirement already satisfied: kiwisolver>=1.0.1 in /usr/local/lib/python3.7/dist-packages (from matplotlib>=2.1.0->pycocotools==2.0) (1.4.4)\n",
      "Requirement already satisfied: python-dateutil>=2.1 in /usr/local/lib/python3.7/dist-packages (from matplotlib>=2.1.0->pycocotools==2.0) (2.8.2)\n",
      "Requirement already satisfied: cycler>=0.10 in /usr/local/lib/python3.7/dist-packages (from matplotlib>=2.1.0->pycocotools==2.0) (0.11.0)\n",
      "Requirement already satisfied: pyparsing!=2.0.4,!=2.1.2,!=2.1.6,>=2.0.1 in /usr/local/lib/python3.7/dist-packages (from matplotlib>=2.1.0->pycocotools==2.0) (3.0.9)\n",
      "Requirement already satisfied: typing-extensions in /usr/local/lib/python3.7/dist-packages (from kiwisolver>=1.0.1->matplotlib>=2.1.0->pycocotools==2.0) (4.1.1)\n",
      "Requirement already satisfied: six>=1.5 in /usr/local/lib/python3.7/dist-packages (from python-dateutil>=2.1->matplotlib>=2.1.0->pycocotools==2.0) (1.15.0)\n",
      "Building wheels for collected packages: pycocotools\n",
      "  Building wheel for pycocotools (setup.py) ... \u001b[?25l\u001b[?25hdone\n",
      "  Created wheel for pycocotools: filename=pycocotools-2.0-cp37-cp37m-linux_x86_64.whl size=265188 sha256=008af278a3eb431685fccd259a5d3662074f03be301d6fad406f6f78adb905d2\n",
      "  Stored in directory: /tmp/pip-ephem-wheel-cache-5btzufkf/wheels/e2/6b/1d/344ac773c7495ea0b85eb228bc66daec7400a143a92d36b7b1\n",
      "Successfully built pycocotools\n",
      "Installing collected packages: pycocotools\n",
      "  Attempting uninstall: pycocotools\n",
      "    Found existing installation: pycocotools 2.0.4\n",
      "    Uninstalling pycocotools-2.0.4:\n",
      "      Successfully uninstalled pycocotools-2.0.4\n",
      "Successfully installed pycocotools-2.0\n",
      "Cloning into 'vision'...\n",
      "remote: Enumerating objects: 204122, done.\u001b[K\n",
      "remote: Counting objects: 100% (4848/4848), done.\u001b[K\n",
      "remote: Compressing objects: 100% (498/498), done.\u001b[K\n",
      "remote: Total 204122 (delta 4434), reused 4709 (delta 4341), pack-reused 199274\u001b[K\n",
      "Receiving objects: 100% (204122/204122), 404.88 MiB | 30.34 MiB/s, done.\n",
      "Resolving deltas: 100% (184022/184022), done.\n"
     ]
    }
   ],
   "source": [
    "!pip install cython\n",
    "# Install pycocotools, the version by default in Colab\n",
    "# has a bug fixed in https://github.com/cocodataset/cocoapi/pull/354\n",
    "!pip install -U 'git+https://github.com/cocodataset/cocoapi.git#subdirectory=PythonAPI'\n",
    "\n",
    "# Download TorchVision repo to use some files from\n",
    "# references/detection\n",
    "!git clone https://github.com/pytorch/vision.git\n",
    "#!cd vision && git checkout v0.3.0\n",
    "!cp vision/references/detection/utils.py ./\n",
    "!cp vision/references/detection/transforms.py ./\n",
    "!cp vision/references/detection/coco_eval.py ./\n",
    "!cp vision/references/detection/engine.py ./\n",
    "!cp vision/references/detection/coco_utils.py ./"
   ]
  }
 ],
 "metadata": {
  "accelerator": "GPU",
  "colab": {
   "collapsed_sections": [],
   "provenance": []
  },
  "gpuClass": "standard",
  "kernelspec": {
   "display_name": "Python 3 (ipykernel)",
   "language": "python",
   "name": "python3"
  },
  "language_info": {
   "codemirror_mode": {
    "name": "ipython",
    "version": 3
   },
   "file_extension": ".py",
   "mimetype": "text/x-python",
   "name": "python",
   "nbconvert_exporter": "python",
   "pygments_lexer": "ipython3",
   "version": "3.9.7"
  }
 },
 "nbformat": 4,
 "nbformat_minor": 1
}
