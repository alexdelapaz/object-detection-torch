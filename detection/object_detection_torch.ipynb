{
  "cells": [
    {
      "cell_type": "markdown",
      "metadata": {
        "id": "RnK7yD5ey7mj"
      },
      "source": [
        "# Torchvision Object Detection Training\n",
        "## Author: Alex de la Paz (http://www.alexdelapaz.com)\n",
        "\n",
        "Training using Torchvision `FasterRCNN_ResNet50` 2-stage model\n",
        "\n",
        "A subset of the `xView dataset` is used\n",
        "- http://xviewdataset.org/\n",
        "\n",
        "This subset was selected to perform a training run that works in a reasonable amount of time on Colab GPUs or personal use GPUs"
      ]
    },
    {
      "cell_type": "code",
      "execution_count": 1,
      "metadata": {
        "colab": {
          "base_uri": "https://localhost:8080/"
        },
        "id": "6_JEoEigqedC",
        "outputId": "893f30a7-de2b-4166-91ac-d68a20b400b9"
      },
      "outputs": [
        {
          "output_type": "stream",
          "name": "stdout",
          "text": [
            "Cloning into 'object-detection-torch'...\n",
            "remote: Enumerating objects: 1455, done.\u001b[K\n",
            "remote: Counting objects: 100% (434/434), done.\u001b[K\n",
            "remote: Compressing objects: 100% (379/379), done.\u001b[K\n",
            "remote: Total 1455 (delta 81), reused 395 (delta 51), pack-reused 1021\u001b[K\n",
            "Receiving objects: 100% (1455/1455), 341.02 MiB | 32.15 MiB/s, done.\n",
            "Resolving deltas: 100% (325/325), done.\n"
          ]
        }
      ],
      "source": [
        "! git clone https://github.com/alexdelapaz/object-detection-torch"
      ]
    },
    {
      "cell_type": "code",
      "execution_count": 2,
      "metadata": {
        "colab": {
          "base_uri": "https://localhost:8080/"
        },
        "id": "GOMAjVQu6tSX",
        "outputId": "e2537292-93bb-4895-855c-ffb5937ccf18"
      },
      "outputs": [
        {
          "output_type": "stream",
          "name": "stdout",
          "text": [
            "/content/object-detection-torch\n"
          ]
        }
      ],
      "source": [
        "cd /content/object-detection-torch"
      ]
    },
    {
      "cell_type": "code",
      "execution_count": 3,
      "metadata": {
        "id": "sTsZw_Ga1e8g",
        "outputId": "26f727ba-7dd7-4832-8bba-e289c923b106",
        "colab": {
          "base_uri": "https://localhost:8080/"
        }
      },
      "outputs": [
        {
          "output_type": "stream",
          "name": "stdout",
          "text": [
            "Cloning into 'vision'...\n",
            "remote: Enumerating objects: 322836, done.\u001b[K\n",
            "remote: Counting objects: 100% (821/821), done.\u001b[K\n",
            "remote: Compressing objects: 100% (149/149), done.\u001b[K\n",
            "remote: Total 322836 (delta 677), reused 800 (delta 665), pack-reused 322015\u001b[K\n",
            "Receiving objects: 100% (322836/322836), 654.52 MiB | 32.88 MiB/s, done.\n",
            "Resolving deltas: 100% (296707/296707), done.\n"
          ]
        }
      ],
      "source": [
        "!git clone https://github.com/pytorch/vision.git"
      ]
    },
    {
      "cell_type": "markdown",
      "metadata": {
        "id": "-dxpib0lyzSl"
      },
      "source": [
        "## Train FasterRCNN_ResNet50\n",
        "- 336 Training samples\n",
        "- 84 Test samples\n",
        "- 20 Epochs\n",
        "- Save loss, eval, and model weights every 5 epochs\n",
        "- Save weights every epoch\n",
        "- `SGD` optimizer\n",
        "- Learning rate of 0.0001"
      ]
    },
    {
      "cell_type": "code",
      "execution_count": 4,
      "metadata": {
        "colab": {
          "base_uri": "https://localhost:8080/"
        },
        "id": "5veukqcXrBvi",
        "outputId": "d860bf6d-d94b-4cb2-cd34-94fbe3fe422e"
      },
      "outputs": [
        {
          "output_type": "stream",
          "name": "stdout",
          "text": [
            "Downloading: \"https://download.pytorch.org/models/fasterrcnn_resnet50_fpn_coco-258fb6c6.pth\" to /root/.cache/torch/hub/checkpoints/fasterrcnn_resnet50_fpn_coco-258fb6c6.pth\n",
            "100% 160M/160M [00:01<00:00, 93.2MB/s]\n",
            "------------------------------------------------------\n",
            "Training: FasterRCNN_ResNet50\n",
            "\n",
            "Saving planes_sgd artifacts to: artifacts/planes_sgd\n",
            "------------------------------------------------------\n",
            "Data [Total count]:\t99\n",
            "Data [Train count]:\t80\n",
            "Data [Test count] :\t19\n",
            "\n",
            "Training [epoch 1]:\tout of 20\n",
            "Training: 100% 20/20 [00:20<00:00,  1.04s/it]\n",
            "Validation: 100% 19/19 [00:01<00:00,  9.83it/s]\n",
            "Lowest train loss: 1.2631571292877197\n",
            "Lowest val loss: 0.8779163360595703\n",
            "\n",
            "Training [epoch 2]:\tout of 20\n",
            "Training: 100% 20/20 [00:13<00:00,  1.50it/s]\n",
            "Validation: 100% 19/19 [00:01<00:00,  9.55it/s]\n",
            "Lowest train loss: 0.945837676525116\n",
            "Lowest val loss: 0.6664196848869324\n",
            "\n",
            "Training [epoch 3]:\tout of 20\n",
            "Training: 100% 20/20 [00:13<00:00,  1.46it/s]\n",
            "Validation: 100% 19/19 [00:01<00:00, 10.15it/s]\n",
            "Lowest train loss: 0.7299507856369019\n",
            "Lowest val loss: 0.5773730874061584\n",
            "\n",
            "Training [epoch 4]:\tout of 20\n",
            "Training: 100% 20/20 [00:13<00:00,  1.47it/s]\n",
            "Validation: 100% 19/19 [00:01<00:00,  9.99it/s]\n",
            "Lowest train loss: 0.665703535079956\n",
            "Lowest val loss: 0.527056872844696\n",
            "\n",
            "Training [epoch 5]:\tout of 20\n",
            "Training: 100% 20/20 [00:13<00:00,  1.45it/s]\n",
            "Validation: 100% 19/19 [00:01<00:00,  9.94it/s]\n",
            "creating index...\n",
            "index created!\n",
            "Test:  [ 0/19]  eta: 0:00:04  model_time: 0.0835 (0.0835)  evaluator_time: 0.0196 (0.0196)  time: 0.2148  data: 0.1098  max mem: 3182\n",
            "Test:  [18/19]  eta: 0:00:00  model_time: 0.0754 (0.0758)  evaluator_time: 0.0098 (0.0105)  time: 0.0989  data: 0.0113  max mem: 3182\n",
            "Test: Total time: 0:00:01 (0.1035 s / it)\n",
            "Averaged stats: model_time: 0.0754 (0.0758)  evaluator_time: 0.0098 (0.0105)\n",
            "Accumulating evaluation results...\n",
            "DONE (t=0.03s).\n",
            "IoU metric: bbox\n",
            " Average Precision  (AP) @[ IoU=0.50:0.95 | area=   all | maxDets=100 ] = 0.010\n",
            " Average Precision  (AP) @[ IoU=0.50      | area=   all | maxDets=100 ] = 0.050\n",
            " Average Precision  (AP) @[ IoU=0.75      | area=   all | maxDets=100 ] = 0.000\n",
            " Average Precision  (AP) @[ IoU=0.50:0.95 | area= small | maxDets=100 ] = 0.003\n",
            " Average Precision  (AP) @[ IoU=0.50:0.95 | area=medium | maxDets=100 ] = 0.024\n",
            " Average Precision  (AP) @[ IoU=0.50:0.95 | area= large | maxDets=100 ] = -1.000\n",
            " Average Recall     (AR) @[ IoU=0.50:0.95 | area=   all | maxDets=  1 ] = 0.008\n",
            " Average Recall     (AR) @[ IoU=0.50:0.95 | area=   all | maxDets= 10 ] = 0.055\n",
            " Average Recall     (AR) @[ IoU=0.50:0.95 | area=   all | maxDets=100 ] = 0.200\n",
            " Average Recall     (AR) @[ IoU=0.50:0.95 | area= small | maxDets=100 ] = 0.125\n",
            " Average Recall     (AR) @[ IoU=0.50:0.95 | area=medium | maxDets=100 ] = 0.209\n",
            " Average Recall     (AR) @[ IoU=0.50:0.95 | area= large | maxDets=100 ] = -1.000\n",
            "Lowest train loss: 0.6217101812362671\n",
            "Lowest val loss: 0.4975780248641968\n",
            "Saving eval run experiment artifacts at: artifacts/planes_sgd/weights_at_eval/5_epochs\n",
            "\n",
            "Training [epoch 6]:\tout of 20\n",
            "Training: 100% 20/20 [00:13<00:00,  1.43it/s]\n",
            "Validation: 100% 19/19 [00:01<00:00,  9.87it/s]\n",
            "Lowest train loss: 0.6144932508468628\n",
            "Lowest val loss: 0.47452646493911743\n",
            "\n",
            "Training [epoch 7]:\tout of 20\n",
            "Training: 100% 20/20 [00:13<00:00,  1.44it/s]\n",
            "Validation: 100% 19/19 [00:01<00:00,  9.86it/s]\n",
            "Lowest train loss: 0.5506381392478943\n",
            "Lowest val loss: 0.4584933817386627\n",
            "\n",
            "Training [epoch 8]:\tout of 20\n",
            "Training: 100% 20/20 [00:14<00:00,  1.43it/s]\n",
            "Validation: 100% 19/19 [00:02<00:00,  9.34it/s]\n",
            "Lowest train loss: 0.5487473011016846\n",
            "Lowest val loss: 0.44564685225486755\n",
            "\n",
            "Training [epoch 9]:\tout of 20\n",
            "Training: 100% 20/20 [00:14<00:00,  1.40it/s]\n",
            "Validation: 100% 19/19 [00:02<00:00,  9.43it/s]\n",
            "Lowest train loss: 0.5354896783828735\n",
            "Lowest val loss: 0.43302226066589355\n",
            "\n",
            "Training [epoch 10]:\tout of 20\n",
            "Training: 100% 20/20 [00:14<00:00,  1.38it/s]\n",
            "Validation: 100% 19/19 [00:02<00:00,  9.27it/s]\n",
            "creating index...\n",
            "index created!\n",
            "Test:  [ 0/19]  eta: 0:00:04  model_time: 0.0772 (0.0772)  evaluator_time: 0.0142 (0.0142)  time: 0.2156  data: 0.1223  max mem: 3183\n",
            "Test:  [18/19]  eta: 0:00:00  model_time: 0.0804 (0.0801)  evaluator_time: 0.0051 (0.0068)  time: 0.0981  data: 0.0099  max mem: 3183\n",
            "Test: Total time: 0:00:01 (0.1005 s / it)\n",
            "Averaged stats: model_time: 0.0804 (0.0801)  evaluator_time: 0.0051 (0.0068)\n",
            "Accumulating evaluation results...\n",
            "DONE (t=0.01s).\n",
            "IoU metric: bbox\n",
            " Average Precision  (AP) @[ IoU=0.50:0.95 | area=   all | maxDets=100 ] = 0.026\n",
            " Average Precision  (AP) @[ IoU=0.50      | area=   all | maxDets=100 ] = 0.113\n",
            " Average Precision  (AP) @[ IoU=0.75      | area=   all | maxDets=100 ] = 0.000\n",
            " Average Precision  (AP) @[ IoU=0.50:0.95 | area= small | maxDets=100 ] = 0.005\n",
            " Average Precision  (AP) @[ IoU=0.50:0.95 | area=medium | maxDets=100 ] = 0.054\n",
            " Average Precision  (AP) @[ IoU=0.50:0.95 | area= large | maxDets=100 ] = -1.000\n",
            " Average Recall     (AR) @[ IoU=0.50:0.95 | area=   all | maxDets=  1 ] = 0.008\n",
            " Average Recall     (AR) @[ IoU=0.50:0.95 | area=   all | maxDets= 10 ] = 0.116\n",
            " Average Recall     (AR) @[ IoU=0.50:0.95 | area=   all | maxDets=100 ] = 0.305\n",
            " Average Recall     (AR) @[ IoU=0.50:0.95 | area= small | maxDets=100 ] = 0.225\n",
            " Average Recall     (AR) @[ IoU=0.50:0.95 | area=medium | maxDets=100 ] = 0.315\n",
            " Average Recall     (AR) @[ IoU=0.50:0.95 | area= large | maxDets=100 ] = -1.000\n",
            "Lowest train loss: 0.5354896783828735\n",
            "Lowest val loss: 0.4255812168121338\n",
            "Saving eval run experiment artifacts at: artifacts/planes_sgd/weights_at_eval/10_epochs\n",
            "\n",
            "Training [epoch 11]:\tout of 20\n",
            "Training: 100% 20/20 [00:14<00:00,  1.34it/s]\n",
            "Validation: 100% 19/19 [00:02<00:00,  9.48it/s]\n",
            "Lowest train loss: 0.5354896783828735\n",
            "Lowest val loss: 0.42101937532424927\n",
            "\n",
            "Training [epoch 12]:\tout of 20\n",
            "Training: 100% 20/20 [00:14<00:00,  1.38it/s]\n",
            "Validation: 100% 19/19 [00:02<00:00,  9.46it/s]\n",
            "Lowest train loss: 0.5159875154495239\n",
            "Lowest val loss: 0.41512176394462585\n",
            "\n",
            "Training [epoch 13]:\tout of 20\n",
            "Training: 100% 20/20 [00:14<00:00,  1.39it/s]\n",
            "Validation: 100% 19/19 [00:02<00:00,  9.00it/s]\n",
            "Lowest train loss: 0.5159875154495239\n",
            "Lowest val loss: 0.41512176394462585\n",
            "\n",
            "Training [epoch 14]:\tout of 20\n",
            "Training: 100% 20/20 [00:14<00:00,  1.36it/s]\n",
            "Validation: 100% 19/19 [00:02<00:00,  9.27it/s]\n",
            "Lowest train loss: 0.48508262634277344\n",
            "Lowest val loss: 0.41512176394462585\n",
            "\n",
            "Training [epoch 15]:\tout of 20\n",
            "Training: 100% 20/20 [00:14<00:00,  1.36it/s]\n",
            "Validation: 100% 19/19 [00:02<00:00,  9.21it/s]\n",
            "creating index...\n",
            "index created!\n",
            "Test:  [ 0/19]  eta: 0:00:05  model_time: 0.0870 (0.0870)  evaluator_time: 0.0297 (0.0297)  time: 0.2844  data: 0.1662  max mem: 3183\n",
            "Test:  [18/19]  eta: 0:00:00  model_time: 0.0789 (0.0797)  evaluator_time: 0.0105 (0.0139)  time: 0.1134  data: 0.0181  max mem: 3183\n",
            "Test: Total time: 0:00:02 (0.1179 s / it)\n",
            "Averaged stats: model_time: 0.0789 (0.0797)  evaluator_time: 0.0105 (0.0139)\n",
            "Accumulating evaluation results...\n",
            "DONE (t=0.03s).\n",
            "IoU metric: bbox\n",
            " Average Precision  (AP) @[ IoU=0.50:0.95 | area=   all | maxDets=100 ] = 0.040\n",
            " Average Precision  (AP) @[ IoU=0.50      | area=   all | maxDets=100 ] = 0.170\n",
            " Average Precision  (AP) @[ IoU=0.75      | area=   all | maxDets=100 ] = 0.000\n",
            " Average Precision  (AP) @[ IoU=0.50:0.95 | area= small | maxDets=100 ] = 0.007\n",
            " Average Precision  (AP) @[ IoU=0.50:0.95 | area=medium | maxDets=100 ] = 0.074\n",
            " Average Precision  (AP) @[ IoU=0.50:0.95 | area= large | maxDets=100 ] = -1.000\n",
            " Average Recall     (AR) @[ IoU=0.50:0.95 | area=   all | maxDets=  1 ] = 0.029\n",
            " Average Recall     (AR) @[ IoU=0.50:0.95 | area=   all | maxDets= 10 ] = 0.139\n",
            " Average Recall     (AR) @[ IoU=0.50:0.95 | area=   all | maxDets=100 ] = 0.305\n",
            " Average Recall     (AR) @[ IoU=0.50:0.95 | area= small | maxDets=100 ] = 0.200\n",
            " Average Recall     (AR) @[ IoU=0.50:0.95 | area=medium | maxDets=100 ] = 0.318\n",
            " Average Recall     (AR) @[ IoU=0.50:0.95 | area= large | maxDets=100 ] = -1.000\n",
            "Lowest train loss: 0.48508262634277344\n",
            "Lowest val loss: 0.41512176394462585\n",
            "Saving eval run experiment artifacts at: artifacts/planes_sgd/weights_at_eval/15_epochs\n",
            "\n",
            "Training [epoch 16]:\tout of 20\n",
            "Training: 100% 20/20 [00:14<00:00,  1.37it/s]\n",
            "Validation: 100% 19/19 [00:02<00:00,  9.34it/s]\n",
            "Lowest train loss: 0.47445225715637207\n",
            "Lowest val loss: 0.40786752104759216\n",
            "\n",
            "Training [epoch 17]:\tout of 20\n",
            "Training: 100% 20/20 [00:14<00:00,  1.37it/s]\n",
            "Validation: 100% 19/19 [00:02<00:00,  9.35it/s]\n",
            "Lowest train loss: 0.47445225715637207\n",
            "Lowest val loss: 0.4048405587673187\n",
            "\n",
            "Training [epoch 18]:\tout of 20\n",
            "Training: 100% 20/20 [00:14<00:00,  1.37it/s]\n",
            "Validation: 100% 19/19 [00:02<00:00,  8.73it/s]\n",
            "Lowest train loss: 0.47421735525131226\n",
            "Lowest val loss: 0.40202566981315613\n",
            "\n",
            "Training [epoch 19]:\tout of 20\n",
            "Training: 100% 20/20 [00:14<00:00,  1.37it/s]\n",
            "Validation: 100% 19/19 [00:02<00:00,  9.34it/s]\n",
            "Lowest train loss: 0.4463973641395569\n",
            "Lowest val loss: 0.39138197898864746\n",
            "\n",
            "Training [epoch 20]:\tout of 20\n",
            "Training: 100% 20/20 [00:14<00:00,  1.37it/s]\n",
            "Validation: 100% 19/19 [00:02<00:00,  9.31it/s]\n",
            "creating index...\n",
            "index created!\n",
            "Test:  [ 0/19]  eta: 0:00:04  model_time: 0.0776 (0.0776)  evaluator_time: 0.0150 (0.0150)  time: 0.2154  data: 0.1213  max mem: 3183\n",
            "Test:  [18/19]  eta: 0:00:00  model_time: 0.0800 (0.0802)  evaluator_time: 0.0098 (0.0116)  time: 0.1054  data: 0.0119  max mem: 3183\n",
            "Test: Total time: 0:00:02 (0.1099 s / it)\n",
            "Averaged stats: model_time: 0.0800 (0.0802)  evaluator_time: 0.0098 (0.0116)\n",
            "Accumulating evaluation results...\n",
            "DONE (t=0.02s).\n",
            "IoU metric: bbox\n",
            " Average Precision  (AP) @[ IoU=0.50:0.95 | area=   all | maxDets=100 ] = 0.061\n",
            " Average Precision  (AP) @[ IoU=0.50      | area=   all | maxDets=100 ] = 0.227\n",
            " Average Precision  (AP) @[ IoU=0.75      | area=   all | maxDets=100 ] = 0.004\n",
            " Average Precision  (AP) @[ IoU=0.50:0.95 | area= small | maxDets=100 ] = 0.004\n",
            " Average Precision  (AP) @[ IoU=0.50:0.95 | area=medium | maxDets=100 ] = 0.108\n",
            " Average Precision  (AP) @[ IoU=0.50:0.95 | area= large | maxDets=100 ] = -1.000\n",
            " Average Recall     (AR) @[ IoU=0.50:0.95 | area=   all | maxDets=  1 ] = 0.037\n",
            " Average Recall     (AR) @[ IoU=0.50:0.95 | area=   all | maxDets= 10 ] = 0.171\n",
            " Average Recall     (AR) @[ IoU=0.50:0.95 | area=   all | maxDets=100 ] = 0.342\n",
            " Average Recall     (AR) @[ IoU=0.50:0.95 | area= small | maxDets=100 ] = 0.200\n",
            " Average Recall     (AR) @[ IoU=0.50:0.95 | area=medium | maxDets=100 ] = 0.359\n",
            " Average Recall     (AR) @[ IoU=0.50:0.95 | area= large | maxDets=100 ] = -1.000\n",
            "Lowest train loss: 0.4463973641395569\n",
            "Lowest val loss: 0.39138197898864746\n",
            "Saving eval run experiment artifacts at: artifacts/planes_sgd/weights_at_eval/20_epochs\n"
          ]
        }
      ],
      "source": [
        "! python3 strategy_real.py -d 'artifacts' -n 'planes_sgd' -bs 4 -e 20 -s 5 -o sgd -lr 0.0001"
      ]
    },
    {
      "cell_type": "markdown",
      "metadata": {
        "id": "lJ0rjG3PRUk-"
      },
      "source": [
        "## Run analysis\n",
        "- display training, validation losses\n",
        "- display minimum training and validation losses\n",
        "- display COCO eval data\n",
        "- save loss graph in `artifacts/` under `/project_name/`"
      ]
    },
    {
      "cell_type": "code",
      "execution_count": 5,
      "metadata": {
        "colab": {
          "base_uri": "https://localhost:8080/"
        },
        "id": "EcVthqmkr9YV",
        "outputId": "4235fa46-e954-4a8a-8891-dc2989bf05e8"
      },
      "outputs": [
        {
          "output_type": "stream",
          "name": "stdout",
          "text": [
            "\n",
            "-------------------------------------------------------------------------------\n",
            "Analysis for |FasterRCNN_ResNet50: 20 epochs of training|\n",
            "-------------------------------------------------------------------------------\n",
            "\n",
            "Training loss:\t\t[1.2631571, 0.9458377, 0.7299508, 0.66570354, 0.6217102, 0.61449325, 0.55063814, 0.5487473, 0.5354897, 0.5414759, 0.53947246, 0.5159875, 0.5260514, 0.48508263, 0.49620634, 0.47445226, 0.47931418, 0.47421736, 0.44639736, 0.45757318]\n",
            "\n",
            "Validation loss:\t[0.87791634, 0.6664197, 0.5773731, 0.5270569, 0.49757802, 0.47452646, 0.45849338, 0.44564685, 0.43302226, 0.42558122, 0.42101938, 0.41512176, 0.4165833, 0.41620168, 0.4158753, 0.40786752, 0.40484056, 0.40202567, 0.39138198, 0.3948552]\n",
            "\n",
            "Traceback (most recent call last):\n",
            "  File \"/content/object-detection-torch/analysis.py\", line 109, in <module>\n",
            "    run_analysis(PATH)\n",
            "  File \"/content/object-detection-torch/analysis.py\", line 42, in run_analysis\n",
            "    losses_val_NEW = model_info['losses_val_NEW']\n",
            "KeyError: 'losses_val_NEW'\n"
          ]
        }
      ],
      "source": [
        "!python3 analysis.py -d 'artifacts' -n 'planes_sgd'"
      ]
    },
    {
      "cell_type": "markdown",
      "metadata": {
        "id": "VchHWDKRRv5I"
      },
      "source": [
        "## Run inference on random image from test set using trained model to create detections\n",
        "- Ground truth annotation\n",
        "- Raw detection\n",
        "- Confidence Score threshold of 0.5\n",
        "- save loss graph in `artifacts/` under `/project_name/`"
      ]
    },
    {
      "cell_type": "code",
      "execution_count": 6,
      "metadata": {
        "colab": {
          "base_uri": "https://localhost:8080/"
        },
        "id": "Xs5vxyz0r9ca",
        "outputId": "d19bc6e8-98fe-4023-9f10-7bb455b5d422"
      },
      "outputs": [
        {
          "output_type": "stream",
          "name": "stdout",
          "text": [
            "\n",
            "-------------------------------------------------------------------------------\n",
            "Detections with |FasterRCNN_ResNet50: 20 epochs of training|\n",
            "-------------------------------------------------------------------------------\n",
            "/usr/local/lib/python3.9/dist-packages/torchvision/utils.py:210: UserWarning: boxes doesn't contain any box. No box was drawn\n",
            "  warnings.warn(\"boxes doesn't contain any box. No box was drawn\")\n",
            "\n",
            "-------------------------------------------------------------------------------\n",
            "Saving detection artifacts to: artifacts/planes_sgd/analysis/\n",
            "-------------------------------------------------------------------------------\n",
            "\n"
          ]
        }
      ],
      "source": [
        "!python3 detections.py -d 'artifacts' -n 'planes_sgd'"
      ]
    },
    {
      "cell_type": "markdown",
      "metadata": {
        "id": "dEzH_o21Uf-7"
      },
      "source": [
        "# Run this cell if there are any errors with Colab notebook runtime not being able to find `pycocotools`"
      ]
    },
    {
      "cell_type": "code",
      "execution_count": 7,
      "metadata": {
        "colab": {
          "base_uri": "https://localhost:8080/"
        },
        "id": "GM6sOiPa9GfW",
        "outputId": "01e181d8-6244-47ff-f117-a3aee80c05bb"
      },
      "outputs": [
        {
          "output_type": "stream",
          "name": "stdout",
          "text": [
            "Looking in indexes: https://pypi.org/simple, https://us-python.pkg.dev/colab-wheels/public/simple/\n",
            "Requirement already satisfied: cython in /usr/local/lib/python3.9/dist-packages (0.29.34)\n",
            "Looking in indexes: https://pypi.org/simple, https://us-python.pkg.dev/colab-wheels/public/simple/\n",
            "Collecting git+https://github.com/cocodataset/cocoapi.git#subdirectory=PythonAPI\n",
            "  Cloning https://github.com/cocodataset/cocoapi.git to /tmp/pip-req-build-hgoejs73\n",
            "  Running command git clone --filter=blob:none --quiet https://github.com/cocodataset/cocoapi.git /tmp/pip-req-build-hgoejs73\n",
            "  Resolved https://github.com/cocodataset/cocoapi.git to commit 8c9bcc3cf640524c4c20a9c40e89cb6a2f2fa0e9\n",
            "  Preparing metadata (setup.py) ... \u001b[?25l\u001b[?25hdone\n",
            "Requirement already satisfied: setuptools>=18.0 in /usr/local/lib/python3.9/dist-packages (from pycocotools==2.0) (67.7.2)\n",
            "Requirement already satisfied: cython>=0.27.3 in /usr/local/lib/python3.9/dist-packages (from pycocotools==2.0) (0.29.34)\n",
            "Requirement already satisfied: matplotlib>=2.1.0 in /usr/local/lib/python3.9/dist-packages (from pycocotools==2.0) (3.7.1)\n",
            "Requirement already satisfied: cycler>=0.10 in /usr/local/lib/python3.9/dist-packages (from matplotlib>=2.1.0->pycocotools==2.0) (0.11.0)\n",
            "Requirement already satisfied: pyparsing>=2.3.1 in /usr/local/lib/python3.9/dist-packages (from matplotlib>=2.1.0->pycocotools==2.0) (3.0.9)\n",
            "Requirement already satisfied: pillow>=6.2.0 in /usr/local/lib/python3.9/dist-packages (from matplotlib>=2.1.0->pycocotools==2.0) (8.4.0)\n",
            "Requirement already satisfied: numpy>=1.20 in /usr/local/lib/python3.9/dist-packages (from matplotlib>=2.1.0->pycocotools==2.0) (1.22.4)\n",
            "Requirement already satisfied: packaging>=20.0 in /usr/local/lib/python3.9/dist-packages (from matplotlib>=2.1.0->pycocotools==2.0) (23.1)\n",
            "Requirement already satisfied: python-dateutil>=2.7 in /usr/local/lib/python3.9/dist-packages (from matplotlib>=2.1.0->pycocotools==2.0) (2.8.2)\n",
            "Requirement already satisfied: kiwisolver>=1.0.1 in /usr/local/lib/python3.9/dist-packages (from matplotlib>=2.1.0->pycocotools==2.0) (1.4.4)\n",
            "Requirement already satisfied: contourpy>=1.0.1 in /usr/local/lib/python3.9/dist-packages (from matplotlib>=2.1.0->pycocotools==2.0) (1.0.7)\n",
            "Requirement already satisfied: importlib-resources>=3.2.0 in /usr/local/lib/python3.9/dist-packages (from matplotlib>=2.1.0->pycocotools==2.0) (5.12.0)\n",
            "Requirement already satisfied: fonttools>=4.22.0 in /usr/local/lib/python3.9/dist-packages (from matplotlib>=2.1.0->pycocotools==2.0) (4.39.3)\n",
            "Requirement already satisfied: zipp>=3.1.0 in /usr/local/lib/python3.9/dist-packages (from importlib-resources>=3.2.0->matplotlib>=2.1.0->pycocotools==2.0) (3.15.0)\n",
            "Requirement already satisfied: six>=1.5 in /usr/local/lib/python3.9/dist-packages (from python-dateutil>=2.7->matplotlib>=2.1.0->pycocotools==2.0) (1.16.0)\n",
            "Building wheels for collected packages: pycocotools\n",
            "  Building wheel for pycocotools (setup.py) ... \u001b[?25l\u001b[?25hdone\n",
            "  Created wheel for pycocotools: filename=pycocotools-2.0-cp39-cp39-linux_x86_64.whl size=398000 sha256=5e475a003a5b92cee3ef44562a6f4927e12b0e0de1f97031cf189e32bb88274f\n",
            "  Stored in directory: /tmp/pip-ephem-wheel-cache-eyomb8q8/wheels/13/c1/d6/a321055f7089f1a6af654fbf794536b196999f082a9cb68a37\n",
            "Successfully built pycocotools\n",
            "Installing collected packages: pycocotools\n",
            "  Attempting uninstall: pycocotools\n",
            "    Found existing installation: pycocotools 2.0.6\n",
            "    Uninstalling pycocotools-2.0.6:\n",
            "      Successfully uninstalled pycocotools-2.0.6\n",
            "Successfully installed pycocotools-2.0\n",
            "fatal: destination path 'vision' already exists and is not an empty directory.\n"
          ]
        }
      ],
      "source": [
        "!pip install cython\n",
        "# Install pycocotools, the version by default in Colab\n",
        "# has a bug fixed in https://github.com/cocodataset/cocoapi/pull/354\n",
        "!pip install -U 'git+https://github.com/cocodataset/cocoapi.git#subdirectory=PythonAPI'\n",
        "\n",
        "# Download TorchVision repo to use some files from\n",
        "# references/detection\n",
        "!git clone https://github.com/pytorch/vision.git\n",
        "#!cd vision && git checkout v0.3.0\n",
        "!cp vision/references/detection/utils.py ./\n",
        "!cp vision/references/detection/transforms.py ./\n",
        "!cp vision/references/detection/coco_eval.py ./\n",
        "!cp vision/references/detection/engine.py ./\n",
        "!cp vision/references/detection/coco_utils.py ./"
      ]
    }
  ],
  "metadata": {
    "accelerator": "GPU",
    "colab": {
      "provenance": []
    },
    "gpuClass": "standard",
    "kernelspec": {
      "display_name": "Python 3 (ipykernel)",
      "language": "python",
      "name": "python3"
    },
    "language_info": {
      "codemirror_mode": {
        "name": "ipython",
        "version": 3
      },
      "file_extension": ".py",
      "mimetype": "text/x-python",
      "name": "python",
      "nbconvert_exporter": "python",
      "pygments_lexer": "ipython3",
      "version": "3.9.7"
    }
  },
  "nbformat": 4,
  "nbformat_minor": 0
}