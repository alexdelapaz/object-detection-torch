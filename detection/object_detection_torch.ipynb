{
  "cells": [
    {
      "cell_type": "markdown",
      "metadata": {
        "id": "RnK7yD5ey7mj"
      },
      "source": [
        "# Torchvision Object Detection Training\n",
        "## Author: Alex de la Paz (http://www.alexdelapaz.com)\n",
        "\n",
        "Training using Torchvision `FasterRCNN_ResNet50` 2-stage model\n",
        "\n",
        "A subset of the `xView dataset` is used\n",
        "- http://xviewdataset.org/\n",
        "\n",
        "This subset was selected to perform a training run that works in a reasonable amount of time on Colab GPUs or personal use GPUs"
      ]
    },
    {
      "cell_type": "code",
      "execution_count": 1,
      "metadata": {
        "colab": {
          "base_uri": "https://localhost:8080/"
        },
        "id": "6_JEoEigqedC",
        "outputId": "c3812c5e-14f2-45a5-ef9b-a05597ea0e81"
      },
      "outputs": [
        {
          "output_type": "stream",
          "name": "stdout",
          "text": [
            "Cloning into 'object-detection-torch'...\n",
            "remote: Enumerating objects: 1468, done.\u001b[K\n",
            "remote: Counting objects: 100% (447/447), done.\u001b[K\n",
            "remote: Compressing objects: 100% (392/392), done.\u001b[K\n",
            "remote: Total 1468 (delta 88), reused 396 (delta 51), pack-reused 1021\u001b[K\n",
            "Receiving objects: 100% (1468/1468), 341.02 MiB | 32.93 MiB/s, done.\n",
            "Resolving deltas: 100% (332/332), done.\n"
          ]
        }
      ],
      "source": [
        "! git clone https://github.com/alexdelapaz/object-detection-torch"
      ]
    },
    {
      "cell_type": "code",
      "execution_count": 2,
      "metadata": {
        "colab": {
          "base_uri": "https://localhost:8080/"
        },
        "id": "GOMAjVQu6tSX",
        "outputId": "e64b4786-28b4-4632-e03b-096806cf3c88"
      },
      "outputs": [
        {
          "output_type": "stream",
          "name": "stdout",
          "text": [
            "/content/object-detection-torch\n"
          ]
        }
      ],
      "source": [
        "cd /content/object-detection-torch"
      ]
    },
    {
      "cell_type": "code",
      "execution_count": 3,
      "metadata": {
        "id": "sTsZw_Ga1e8g",
        "outputId": "e29d2b25-51d0-4cda-c107-08b0a68b0212",
        "colab": {
          "base_uri": "https://localhost:8080/"
        }
      },
      "outputs": [
        {
          "output_type": "stream",
          "name": "stdout",
          "text": [
            "Cloning into 'vision'...\n",
            "remote: Enumerating objects: 322836, done.\u001b[K\n",
            "remote: Counting objects: 100% (821/821), done.\u001b[K\n",
            "remote: Compressing objects: 100% (139/139), done.\u001b[K\n",
            "remote: Total 322836 (delta 685), reused 804 (delta 675), pack-reused 322015\u001b[K\n",
            "Receiving objects: 100% (322836/322836), 656.80 MiB | 35.00 MiB/s, done.\n",
            "Resolving deltas: 100% (296708/296708), done.\n"
          ]
        }
      ],
      "source": [
        "!git clone https://github.com/pytorch/vision.git"
      ]
    },
    {
      "cell_type": "markdown",
      "metadata": {
        "id": "dEzH_o21Uf-7"
      },
      "source": [
        "# Force install `pycocotools` with bug fix for colab"
      ]
    },
    {
      "cell_type": "code",
      "execution_count": 4,
      "metadata": {
        "colab": {
          "base_uri": "https://localhost:8080/"
        },
        "id": "GM6sOiPa9GfW",
        "outputId": "93497323-9172-44e9-bec5-b74a761292c4"
      },
      "outputs": [
        {
          "output_type": "stream",
          "name": "stdout",
          "text": [
            "Looking in indexes: https://pypi.org/simple, https://us-python.pkg.dev/colab-wheels/public/simple/\n",
            "Requirement already satisfied: cython in /usr/local/lib/python3.9/dist-packages (0.29.34)\n",
            "Looking in indexes: https://pypi.org/simple, https://us-python.pkg.dev/colab-wheels/public/simple/\n",
            "Collecting git+https://github.com/cocodataset/cocoapi.git#subdirectory=PythonAPI\n",
            "  Cloning https://github.com/cocodataset/cocoapi.git to /tmp/pip-req-build-vrpkzpmb\n",
            "  Running command git clone --filter=blob:none --quiet https://github.com/cocodataset/cocoapi.git /tmp/pip-req-build-vrpkzpmb\n",
            "  Resolved https://github.com/cocodataset/cocoapi.git to commit 8c9bcc3cf640524c4c20a9c40e89cb6a2f2fa0e9\n",
            "  Preparing metadata (setup.py) ... \u001b[?25l\u001b[?25hdone\n",
            "Requirement already satisfied: setuptools>=18.0 in /usr/local/lib/python3.9/dist-packages (from pycocotools==2.0) (67.7.2)\n",
            "Requirement already satisfied: cython>=0.27.3 in /usr/local/lib/python3.9/dist-packages (from pycocotools==2.0) (0.29.34)\n",
            "Requirement already satisfied: matplotlib>=2.1.0 in /usr/local/lib/python3.9/dist-packages (from pycocotools==2.0) (3.7.1)\n",
            "Requirement already satisfied: fonttools>=4.22.0 in /usr/local/lib/python3.9/dist-packages (from matplotlib>=2.1.0->pycocotools==2.0) (4.39.3)\n",
            "Requirement already satisfied: pyparsing>=2.3.1 in /usr/local/lib/python3.9/dist-packages (from matplotlib>=2.1.0->pycocotools==2.0) (3.0.9)\n",
            "Requirement already satisfied: pillow>=6.2.0 in /usr/local/lib/python3.9/dist-packages (from matplotlib>=2.1.0->pycocotools==2.0) (8.4.0)\n",
            "Requirement already satisfied: contourpy>=1.0.1 in /usr/local/lib/python3.9/dist-packages (from matplotlib>=2.1.0->pycocotools==2.0) (1.0.7)\n",
            "Requirement already satisfied: cycler>=0.10 in /usr/local/lib/python3.9/dist-packages (from matplotlib>=2.1.0->pycocotools==2.0) (0.11.0)\n",
            "Requirement already satisfied: kiwisolver>=1.0.1 in /usr/local/lib/python3.9/dist-packages (from matplotlib>=2.1.0->pycocotools==2.0) (1.4.4)\n",
            "Requirement already satisfied: python-dateutil>=2.7 in /usr/local/lib/python3.9/dist-packages (from matplotlib>=2.1.0->pycocotools==2.0) (2.8.2)\n",
            "Requirement already satisfied: importlib-resources>=3.2.0 in /usr/local/lib/python3.9/dist-packages (from matplotlib>=2.1.0->pycocotools==2.0) (5.12.0)\n",
            "Requirement already satisfied: packaging>=20.0 in /usr/local/lib/python3.9/dist-packages (from matplotlib>=2.1.0->pycocotools==2.0) (23.1)\n",
            "Requirement already satisfied: numpy>=1.20 in /usr/local/lib/python3.9/dist-packages (from matplotlib>=2.1.0->pycocotools==2.0) (1.22.4)\n",
            "Requirement already satisfied: zipp>=3.1.0 in /usr/local/lib/python3.9/dist-packages (from importlib-resources>=3.2.0->matplotlib>=2.1.0->pycocotools==2.0) (3.15.0)\n",
            "Requirement already satisfied: six>=1.5 in /usr/local/lib/python3.9/dist-packages (from python-dateutil>=2.7->matplotlib>=2.1.0->pycocotools==2.0) (1.16.0)\n",
            "Building wheels for collected packages: pycocotools\n",
            "  Building wheel for pycocotools (setup.py) ... \u001b[?25l\u001b[?25hdone\n",
            "  Created wheel for pycocotools: filename=pycocotools-2.0-cp39-cp39-linux_x86_64.whl size=397990 sha256=c0f2e7614de81cdb2db42f4e7336f8c8faf151bf5293e7a98f6fd112aa8adb21\n",
            "  Stored in directory: /tmp/pip-ephem-wheel-cache-a3nfbh_s/wheels/13/c1/d6/a321055f7089f1a6af654fbf794536b196999f082a9cb68a37\n",
            "Successfully built pycocotools\n",
            "Installing collected packages: pycocotools\n",
            "  Attempting uninstall: pycocotools\n",
            "    Found existing installation: pycocotools 2.0.6\n",
            "    Uninstalling pycocotools-2.0.6:\n",
            "      Successfully uninstalled pycocotools-2.0.6\n",
            "Successfully installed pycocotools-2.0\n",
            "fatal: destination path 'vision' already exists and is not an empty directory.\n"
          ]
        }
      ],
      "source": [
        "!pip install cython\n",
        "# Install pycocotools, the version by default in Colab\n",
        "# has a bug fixed in https://github.com/cocodataset/cocoapi/pull/354\n",
        "!pip install -U 'git+https://github.com/cocodataset/cocoapi.git#subdirectory=PythonAPI'\n",
        "\n",
        "# Download TorchVision repo to use some files from\n",
        "# references/detection\n",
        "!git clone https://github.com/pytorch/vision.git\n",
        "#!cd vision && git checkout v0.3.0\n",
        "!cp vision/references/detection/utils.py ./\n",
        "!cp vision/references/detection/transforms.py ./\n",
        "!cp vision/references/detection/coco_eval.py ./\n",
        "!cp vision/references/detection/engine.py ./\n",
        "!cp vision/references/detection/coco_utils.py ./"
      ]
    },
    {
      "cell_type": "markdown",
      "metadata": {
        "id": "-dxpib0lyzSl"
      },
      "source": [
        "## Train FasterRCNN_ResNet50\n",
        "- 336 Training samples\n",
        "- 84 Test samples\n",
        "- 20 Epochs\n",
        "- Save loss, eval, and model weights every 5 epochs\n",
        "- Save weights every epoch\n",
        "- `SGD` optimizer\n",
        "- Learning rate of 0.0001"
      ]
    },
    {
      "cell_type": "code",
      "execution_count": null,
      "metadata": {
        "colab": {
          "base_uri": "https://localhost:8080/"
        },
        "id": "5veukqcXrBvi",
        "outputId": "476524d3-79b4-435f-e2c7-3b5c9cfd57db"
      },
      "outputs": [
        {
          "output_type": "stream",
          "name": "stdout",
          "text": [
            "Downloading: \"https://download.pytorch.org/models/fasterrcnn_resnet50_fpn_coco-258fb6c6.pth\" to /root/.cache/torch/hub/checkpoints/fasterrcnn_resnet50_fpn_coco-258fb6c6.pth\n",
            "100% 160M/160M [00:02<00:00, 56.4MB/s]\n",
            "------------------------------------------------------\n",
            "Training: FasterRCNN_ResNet50\n",
            "\n",
            "Saving planes_sgd artifacts to: artifacts/planes_sgd\n",
            "------------------------------------------------------\n",
            "Data [Total count]:\t420\n",
            "Data [Train count]:\t336\n",
            "Data [Test count] :\t84\n",
            "\n",
            "Training [epoch 1]:\tout of 20\n",
            "Training:  42% 35/84 [00:32<00:35,  1.38it/s]"
          ]
        }
      ],
      "source": [
        "! python3 strategy_real.py -d 'artifacts' -n 'planes_sgd' -bs 4 -e 20 -s 5 -o sgd -lr 0.0001"
      ]
    },
    {
      "cell_type": "markdown",
      "metadata": {
        "id": "lJ0rjG3PRUk-"
      },
      "source": [
        "## Run analysis\n",
        "- display training, validation losses\n",
        "- display minimum training and validation losses\n",
        "- display COCO eval data\n",
        "- save loss graph in `artifacts/` under `/project_name/`"
      ]
    },
    {
      "cell_type": "code",
      "execution_count": null,
      "metadata": {
        "id": "EcVthqmkr9YV"
      },
      "outputs": [],
      "source": [
        "!python3 analysis.py -d 'artifacts' -n 'planes_sgd'"
      ]
    },
    {
      "cell_type": "markdown",
      "metadata": {
        "id": "VchHWDKRRv5I"
      },
      "source": [
        "## Run inference on random image from test set using trained model to create detections\n",
        "- Ground truth annotation\n",
        "- Raw detection\n",
        "- Confidence Score threshold of 0.5\n",
        "- save loss graph in `artifacts/` under `/project_name/`"
      ]
    },
    {
      "cell_type": "code",
      "execution_count": null,
      "metadata": {
        "id": "Xs5vxyz0r9ca"
      },
      "outputs": [],
      "source": [
        "!python3 detections.py -d 'artifacts' -n 'planes_sgd'"
      ]
    }
  ],
  "metadata": {
    "accelerator": "GPU",
    "colab": {
      "provenance": []
    },
    "gpuClass": "standard",
    "kernelspec": {
      "display_name": "Python 3 (ipykernel)",
      "language": "python",
      "name": "python3"
    },
    "language_info": {
      "codemirror_mode": {
        "name": "ipython",
        "version": 3
      },
      "file_extension": ".py",
      "mimetype": "text/x-python",
      "name": "python",
      "nbconvert_exporter": "python",
      "pygments_lexer": "ipython3",
      "version": "3.9.7"
    }
  },
  "nbformat": 4,
  "nbformat_minor": 0
}