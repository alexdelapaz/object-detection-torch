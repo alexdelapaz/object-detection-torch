{
  "cells": [
    {
      "cell_type": "markdown",
      "metadata": {
        "id": "RnK7yD5ey7mj"
      },
      "source": [
        "# Torchvision Object Detection Training\n",
        "## Author: Alex de la Paz (http://www.alexdelapaz.com)\n",
        "\n",
        "Training using Torchvision `FasterRCNN_ResNet50` 2-stage model\n",
        "\n",
        "A subset of the `xView dataset` is used\n",
        "- http://xviewdataset.org/\n",
        "\n",
        "This subset was selected to perform a training run that works in a reasonable amount of time on Colab GPUs or personal use GPUs"
      ]
    },
    {
      "cell_type": "code",
      "execution_count": 8,
      "metadata": {
        "colab": {
          "base_uri": "https://localhost:8080/"
        },
        "id": "6_JEoEigqedC",
        "outputId": "c83981b2-cf0f-47a1-a54d-258de2756fa9"
      },
      "outputs": [
        {
          "output_type": "stream",
          "name": "stdout",
          "text": [
            "Cloning into 'object-detection-torch'...\n",
            "remote: Enumerating objects: 1475, done.\u001b[K\n",
            "remote: Counting objects: 100% (454/454), done.\u001b[K\n",
            "remote: Compressing objects: 100% (399/399), done.\u001b[K\n",
            "remote: Total 1475 (delta 92), reused 396 (delta 51), pack-reused 1021\u001b[K\n",
            "Receiving objects: 100% (1475/1475), 341.03 MiB | 48.09 MiB/s, done.\n",
            "Resolving deltas: 100% (336/336), done.\n"
          ]
        }
      ],
      "source": [
        "! git clone https://github.com/alexdelapaz/object-detection-torch"
      ]
    },
    {
      "cell_type": "code",
      "execution_count": 2,
      "metadata": {
        "colab": {
          "base_uri": "https://localhost:8080/"
        },
        "id": "GOMAjVQu6tSX",
        "outputId": "e64b4786-28b4-4632-e03b-096806cf3c88"
      },
      "outputs": [
        {
          "output_type": "stream",
          "name": "stdout",
          "text": [
            "/content/object-detection-torch\n"
          ]
        }
      ],
      "source": [
        "cd /content/object-detection-torch"
      ]
    },
    {
      "cell_type": "code",
      "execution_count": 3,
      "metadata": {
        "id": "sTsZw_Ga1e8g",
        "outputId": "e29d2b25-51d0-4cda-c107-08b0a68b0212",
        "colab": {
          "base_uri": "https://localhost:8080/"
        }
      },
      "outputs": [
        {
          "output_type": "stream",
          "name": "stdout",
          "text": [
            "Cloning into 'vision'...\n",
            "remote: Enumerating objects: 322836, done.\u001b[K\n",
            "remote: Counting objects: 100% (821/821), done.\u001b[K\n",
            "remote: Compressing objects: 100% (139/139), done.\u001b[K\n",
            "remote: Total 322836 (delta 685), reused 804 (delta 675), pack-reused 322015\u001b[K\n",
            "Receiving objects: 100% (322836/322836), 656.80 MiB | 35.00 MiB/s, done.\n",
            "Resolving deltas: 100% (296708/296708), done.\n"
          ]
        }
      ],
      "source": [
        "!git clone https://github.com/pytorch/vision.git"
      ]
    },
    {
      "cell_type": "markdown",
      "metadata": {
        "id": "dEzH_o21Uf-7"
      },
      "source": [
        "# Force install `pycocotools` with bug fix for colab"
      ]
    },
    {
      "cell_type": "code",
      "execution_count": 4,
      "metadata": {
        "colab": {
          "base_uri": "https://localhost:8080/"
        },
        "id": "GM6sOiPa9GfW",
        "outputId": "93497323-9172-44e9-bec5-b74a761292c4"
      },
      "outputs": [
        {
          "output_type": "stream",
          "name": "stdout",
          "text": [
            "Looking in indexes: https://pypi.org/simple, https://us-python.pkg.dev/colab-wheels/public/simple/\n",
            "Requirement already satisfied: cython in /usr/local/lib/python3.9/dist-packages (0.29.34)\n",
            "Looking in indexes: https://pypi.org/simple, https://us-python.pkg.dev/colab-wheels/public/simple/\n",
            "Collecting git+https://github.com/cocodataset/cocoapi.git#subdirectory=PythonAPI\n",
            "  Cloning https://github.com/cocodataset/cocoapi.git to /tmp/pip-req-build-vrpkzpmb\n",
            "  Running command git clone --filter=blob:none --quiet https://github.com/cocodataset/cocoapi.git /tmp/pip-req-build-vrpkzpmb\n",
            "  Resolved https://github.com/cocodataset/cocoapi.git to commit 8c9bcc3cf640524c4c20a9c40e89cb6a2f2fa0e9\n",
            "  Preparing metadata (setup.py) ... \u001b[?25l\u001b[?25hdone\n",
            "Requirement already satisfied: setuptools>=18.0 in /usr/local/lib/python3.9/dist-packages (from pycocotools==2.0) (67.7.2)\n",
            "Requirement already satisfied: cython>=0.27.3 in /usr/local/lib/python3.9/dist-packages (from pycocotools==2.0) (0.29.34)\n",
            "Requirement already satisfied: matplotlib>=2.1.0 in /usr/local/lib/python3.9/dist-packages (from pycocotools==2.0) (3.7.1)\n",
            "Requirement already satisfied: fonttools>=4.22.0 in /usr/local/lib/python3.9/dist-packages (from matplotlib>=2.1.0->pycocotools==2.0) (4.39.3)\n",
            "Requirement already satisfied: pyparsing>=2.3.1 in /usr/local/lib/python3.9/dist-packages (from matplotlib>=2.1.0->pycocotools==2.0) (3.0.9)\n",
            "Requirement already satisfied: pillow>=6.2.0 in /usr/local/lib/python3.9/dist-packages (from matplotlib>=2.1.0->pycocotools==2.0) (8.4.0)\n",
            "Requirement already satisfied: contourpy>=1.0.1 in /usr/local/lib/python3.9/dist-packages (from matplotlib>=2.1.0->pycocotools==2.0) (1.0.7)\n",
            "Requirement already satisfied: cycler>=0.10 in /usr/local/lib/python3.9/dist-packages (from matplotlib>=2.1.0->pycocotools==2.0) (0.11.0)\n",
            "Requirement already satisfied: kiwisolver>=1.0.1 in /usr/local/lib/python3.9/dist-packages (from matplotlib>=2.1.0->pycocotools==2.0) (1.4.4)\n",
            "Requirement already satisfied: python-dateutil>=2.7 in /usr/local/lib/python3.9/dist-packages (from matplotlib>=2.1.0->pycocotools==2.0) (2.8.2)\n",
            "Requirement already satisfied: importlib-resources>=3.2.0 in /usr/local/lib/python3.9/dist-packages (from matplotlib>=2.1.0->pycocotools==2.0) (5.12.0)\n",
            "Requirement already satisfied: packaging>=20.0 in /usr/local/lib/python3.9/dist-packages (from matplotlib>=2.1.0->pycocotools==2.0) (23.1)\n",
            "Requirement already satisfied: numpy>=1.20 in /usr/local/lib/python3.9/dist-packages (from matplotlib>=2.1.0->pycocotools==2.0) (1.22.4)\n",
            "Requirement already satisfied: zipp>=3.1.0 in /usr/local/lib/python3.9/dist-packages (from importlib-resources>=3.2.0->matplotlib>=2.1.0->pycocotools==2.0) (3.15.0)\n",
            "Requirement already satisfied: six>=1.5 in /usr/local/lib/python3.9/dist-packages (from python-dateutil>=2.7->matplotlib>=2.1.0->pycocotools==2.0) (1.16.0)\n",
            "Building wheels for collected packages: pycocotools\n",
            "  Building wheel for pycocotools (setup.py) ... \u001b[?25l\u001b[?25hdone\n",
            "  Created wheel for pycocotools: filename=pycocotools-2.0-cp39-cp39-linux_x86_64.whl size=397990 sha256=c0f2e7614de81cdb2db42f4e7336f8c8faf151bf5293e7a98f6fd112aa8adb21\n",
            "  Stored in directory: /tmp/pip-ephem-wheel-cache-a3nfbh_s/wheels/13/c1/d6/a321055f7089f1a6af654fbf794536b196999f082a9cb68a37\n",
            "Successfully built pycocotools\n",
            "Installing collected packages: pycocotools\n",
            "  Attempting uninstall: pycocotools\n",
            "    Found existing installation: pycocotools 2.0.6\n",
            "    Uninstalling pycocotools-2.0.6:\n",
            "      Successfully uninstalled pycocotools-2.0.6\n",
            "Successfully installed pycocotools-2.0\n",
            "fatal: destination path 'vision' already exists and is not an empty directory.\n"
          ]
        }
      ],
      "source": [
        "!pip install cython\n",
        "# Install pycocotools, the version by default in Colab\n",
        "# has a bug fixed in https://github.com/cocodataset/cocoapi/pull/354\n",
        "!pip install -U 'git+https://github.com/cocodataset/cocoapi.git#subdirectory=PythonAPI'\n",
        "\n",
        "# Download TorchVision repo to use some files from\n",
        "# references/detection\n",
        "!git clone https://github.com/pytorch/vision.git\n",
        "#!cd vision && git checkout v0.3.0\n",
        "!cp vision/references/detection/utils.py ./\n",
        "!cp vision/references/detection/transforms.py ./\n",
        "!cp vision/references/detection/coco_eval.py ./\n",
        "!cp vision/references/detection/engine.py ./\n",
        "!cp vision/references/detection/coco_utils.py ./"
      ]
    },
    {
      "cell_type": "markdown",
      "metadata": {
        "id": "-dxpib0lyzSl"
      },
      "source": [
        "## Train FasterRCNN_ResNet50\n",
        "- 336 Training samples\n",
        "- 84 Test samples\n",
        "- 20 Epochs\n",
        "- Save loss, eval, and model weights every 5 epochs\n",
        "- Save weights every epoch\n",
        "- `SGD` optimizer\n",
        "- Learning rate of 0.0001"
      ]
    },
    {
      "cell_type": "code",
      "execution_count": 5,
      "metadata": {
        "colab": {
          "base_uri": "https://localhost:8080/"
        },
        "id": "5veukqcXrBvi",
        "outputId": "476524d3-79b4-435f-e2c7-3b5c9cfd57db"
      },
      "outputs": [
        {
          "output_type": "stream",
          "name": "stdout",
          "text": [
            "Downloading: \"https://download.pytorch.org/models/fasterrcnn_resnet50_fpn_coco-258fb6c6.pth\" to /root/.cache/torch/hub/checkpoints/fasterrcnn_resnet50_fpn_coco-258fb6c6.pth\n",
            "100% 160M/160M [00:02<00:00, 56.4MB/s]\n",
            "------------------------------------------------------\n",
            "Training: FasterRCNN_ResNet50\n",
            "\n",
            "Saving planes_sgd artifacts to: artifacts/planes_sgd\n",
            "------------------------------------------------------\n",
            "Data [Total count]:\t420\n",
            "Data [Train count]:\t336\n",
            "Data [Test count] :\t84\n",
            "\n",
            "Training [epoch 1]:\tout of 20\n",
            "Training: 100% 84/84 [01:08<00:00,  1.22it/s]\n",
            "Validation: 100% 84/84 [00:08<00:00, 10.43it/s]\n",
            "Lowest train loss: 1.0867688655853271\n",
            "Lowest val loss: 0.6924095153808594\n",
            "\n",
            "Training [epoch 2]:\tout of 20\n",
            "Training: 100% 84/84 [01:04<00:00,  1.29it/s]\n",
            "Validation: 100% 84/84 [00:07<00:00, 10.71it/s]\n",
            "Lowest train loss: 0.6528642177581787\n",
            "Lowest val loss: 0.5605618357658386\n",
            "\n",
            "Training [epoch 3]:\tout of 20\n",
            "Training: 100% 84/84 [01:04<00:00,  1.29it/s]\n",
            "Validation: 100% 84/84 [00:08<00:00,  9.96it/s]\n",
            "Lowest train loss: 0.5661395192146301\n",
            "Lowest val loss: 0.5261199474334717\n",
            "\n",
            "Training [epoch 4]:\tout of 20\n",
            "Training: 100% 84/84 [01:04<00:00,  1.30it/s]\n",
            "Validation: 100% 84/84 [00:08<00:00, 10.37it/s]\n",
            "Lowest train loss: 0.5286370515823364\n",
            "Lowest val loss: 0.5089408159255981\n",
            "\n",
            "Training [epoch 5]:\tout of 20\n",
            "Training: 100% 84/84 [01:04<00:00,  1.30it/s]\n",
            "Validation: 100% 84/84 [00:07<00:00, 10.52it/s]\n",
            "creating index...\n",
            "index created!\n",
            "Test:  [ 0/84]  eta: 0:00:19  model_time: 0.0965 (0.0965)  evaluator_time: 0.0060 (0.0060)  time: 0.2335  data: 0.1292  max mem: 3182\n",
            "Test:  [83/84]  eta: 0:00:00  model_time: 0.0839 (0.0836)  evaluator_time: 0.0023 (0.0035)  time: 0.0921  data: 0.0039  max mem: 3182\n",
            "Test: Total time: 0:00:07 (0.0944 s / it)\n",
            "Averaged stats: model_time: 0.0839 (0.0836)  evaluator_time: 0.0023 (0.0035)\n",
            "Accumulating evaluation results...\n",
            "DONE (t=0.04s).\n",
            "IoU metric: bbox\n",
            " Average Precision  (AP) @[ IoU=0.50:0.95 | area=   all | maxDets=100 ] = 0.046\n",
            " Average Precision  (AP) @[ IoU=0.50      | area=   all | maxDets=100 ] = 0.125\n",
            " Average Precision  (AP) @[ IoU=0.75      | area=   all | maxDets=100 ] = 0.023\n",
            " Average Precision  (AP) @[ IoU=0.50:0.95 | area= small | maxDets=100 ] = 0.007\n",
            " Average Precision  (AP) @[ IoU=0.50:0.95 | area=medium | maxDets=100 ] = 0.031\n",
            " Average Precision  (AP) @[ IoU=0.50:0.95 | area= large | maxDets=100 ] = 0.146\n",
            " Average Recall     (AR) @[ IoU=0.50:0.95 | area=   all | maxDets=  1 ] = 0.067\n",
            " Average Recall     (AR) @[ IoU=0.50:0.95 | area=   all | maxDets= 10 ] = 0.138\n",
            " Average Recall     (AR) @[ IoU=0.50:0.95 | area=   all | maxDets=100 ] = 0.174\n",
            " Average Recall     (AR) @[ IoU=0.50:0.95 | area= small | maxDets=100 ] = 0.400\n",
            " Average Recall     (AR) @[ IoU=0.50:0.95 | area=medium | maxDets=100 ] = 0.153\n",
            " Average Recall     (AR) @[ IoU=0.50:0.95 | area= large | maxDets=100 ] = 0.393\n",
            "Lowest train loss: 0.5121344327926636\n",
            "Lowest val loss: 0.4943622052669525\n",
            "Saving eval run experiment artifacts at: artifacts/planes_sgd/weights_at_eval/5_epochs\n",
            "\n",
            "Training [epoch 6]:\tout of 20\n",
            "Training: 100% 84/84 [01:04<00:00,  1.29it/s]\n",
            "Validation: 100% 84/84 [00:08<00:00, 10.35it/s]\n",
            "Lowest train loss: 0.5073384046554565\n",
            "Lowest val loss: 0.48108595609664917\n",
            "\n",
            "Training [epoch 7]:\tout of 20\n",
            "Training: 100% 84/84 [01:04<00:00,  1.30it/s]\n",
            "Validation: 100% 84/84 [00:08<00:00, 10.36it/s]\n",
            "Lowest train loss: 0.4667207598686218\n",
            "Lowest val loss: 0.4710087478160858\n",
            "\n",
            "Training [epoch 8]:\tout of 20\n",
            "Training: 100% 84/84 [01:04<00:00,  1.30it/s]\n",
            "Validation: 100% 84/84 [00:08<00:00, 10.42it/s]\n",
            "Lowest train loss: 0.4546423852443695\n",
            "Lowest val loss: 0.4579056203365326\n",
            "\n",
            "Training [epoch 9]:\tout of 20\n",
            "Training: 100% 84/84 [01:04<00:00,  1.29it/s]\n",
            "Validation: 100% 84/84 [00:07<00:00, 10.69it/s]\n",
            "Lowest train loss: 0.44477948546409607\n",
            "Lowest val loss: 0.4462173879146576\n",
            "\n",
            "Training [epoch 10]:\tout of 20\n",
            "Training: 100% 84/84 [01:04<00:00,  1.30it/s]\n",
            "Validation: 100% 84/84 [00:08<00:00, 10.45it/s]\n",
            "creating index...\n",
            "index created!\n",
            "Test:  [ 0/84]  eta: 0:00:17  model_time: 0.0832 (0.0832)  evaluator_time: 0.0028 (0.0028)  time: 0.2106  data: 0.1227  max mem: 3182\n",
            "Test:  [83/84]  eta: 0:00:00  model_time: 0.0832 (0.0834)  evaluator_time: 0.0015 (0.0043)  time: 0.0918  data: 0.0042  max mem: 3182\n",
            "Test: Total time: 0:00:08 (0.0963 s / it)\n",
            "Averaged stats: model_time: 0.0832 (0.0834)  evaluator_time: 0.0015 (0.0043)\n",
            "Accumulating evaluation results...\n",
            "DONE (t=0.04s).\n",
            "IoU metric: bbox\n",
            " Average Precision  (AP) @[ IoU=0.50:0.95 | area=   all | maxDets=100 ] = 0.086\n",
            " Average Precision  (AP) @[ IoU=0.50      | area=   all | maxDets=100 ] = 0.199\n",
            " Average Precision  (AP) @[ IoU=0.75      | area=   all | maxDets=100 ] = 0.054\n",
            " Average Precision  (AP) @[ IoU=0.50:0.95 | area= small | maxDets=100 ] = 0.026\n",
            " Average Precision  (AP) @[ IoU=0.50:0.95 | area=medium | maxDets=100 ] = 0.061\n",
            " Average Precision  (AP) @[ IoU=0.50:0.95 | area= large | maxDets=100 ] = 0.240\n",
            " Average Recall     (AR) @[ IoU=0.50:0.95 | area=   all | maxDets=  1 ] = 0.092\n",
            " Average Recall     (AR) @[ IoU=0.50:0.95 | area=   all | maxDets= 10 ] = 0.174\n",
            " Average Recall     (AR) @[ IoU=0.50:0.95 | area=   all | maxDets=100 ] = 0.200\n",
            " Average Recall     (AR) @[ IoU=0.50:0.95 | area= small | maxDets=100 ] = 0.467\n",
            " Average Recall     (AR) @[ IoU=0.50:0.95 | area=medium | maxDets=100 ] = 0.175\n",
            " Average Recall     (AR) @[ IoU=0.50:0.95 | area= large | maxDets=100 ] = 0.452\n",
            "Lowest train loss: 0.44477948546409607\n",
            "Lowest val loss: 0.44172728061676025\n",
            "Saving eval run experiment artifacts at: artifacts/planes_sgd/weights_at_eval/10_epochs\n",
            "\n",
            "Training [epoch 11]:\tout of 20\n",
            "Training: 100% 84/84 [01:04<00:00,  1.29it/s]\n",
            "Validation: 100% 84/84 [00:08<00:00, 10.47it/s]\n",
            "Lowest train loss: 0.44366809725761414\n",
            "Lowest val loss: 0.4314376711845398\n",
            "\n",
            "Training [epoch 12]:\tout of 20\n",
            "Training: 100% 84/84 [01:04<00:00,  1.29it/s]\n",
            "Validation: 100% 84/84 [00:07<00:00, 10.71it/s]\n",
            "Lowest train loss: 0.42907992005348206\n",
            "Lowest val loss: 0.41881632804870605\n",
            "\n",
            "Training [epoch 13]:\tout of 20\n",
            "Training: 100% 84/84 [01:05<00:00,  1.29it/s]\n",
            "Validation: 100% 84/84 [00:08<00:00, 10.25it/s]\n",
            "Lowest train loss: 0.42442622780799866\n",
            "Lowest val loss: 0.41113361716270447\n",
            "\n",
            "Training [epoch 14]:\tout of 20\n",
            "Training: 100% 84/84 [01:04<00:00,  1.29it/s]\n",
            "Validation: 100% 84/84 [00:08<00:00, 10.28it/s]\n",
            "Lowest train loss: 0.4083362817764282\n",
            "Lowest val loss: 0.40643441677093506\n",
            "\n",
            "Training [epoch 15]:\tout of 20\n",
            "Training: 100% 84/84 [01:04<00:00,  1.30it/s]\n",
            "Validation: 100% 84/84 [00:08<00:00, 10.38it/s]\n",
            "creating index...\n",
            "index created!\n",
            "Test:  [ 0/84]  eta: 0:00:16  model_time: 0.0915 (0.0915)  evaluator_time: 0.0030 (0.0030)  time: 0.1985  data: 0.1022  max mem: 3183\n",
            "Test:  [83/84]  eta: 0:00:00  model_time: 0.0825 (0.0833)  evaluator_time: 0.0017 (0.0035)  time: 0.0912  data: 0.0037  max mem: 3183\n",
            "Test: Total time: 0:00:07 (0.0936 s / it)\n",
            "Averaged stats: model_time: 0.0825 (0.0833)  evaluator_time: 0.0017 (0.0035)\n",
            "Accumulating evaluation results...\n",
            "DONE (t=0.05s).\n",
            "IoU metric: bbox\n",
            " Average Precision  (AP) @[ IoU=0.50:0.95 | area=   all | maxDets=100 ] = 0.128\n",
            " Average Precision  (AP) @[ IoU=0.50      | area=   all | maxDets=100 ] = 0.268\n",
            " Average Precision  (AP) @[ IoU=0.75      | area=   all | maxDets=100 ] = 0.094\n",
            " Average Precision  (AP) @[ IoU=0.50:0.95 | area= small | maxDets=100 ] = 0.042\n",
            " Average Precision  (AP) @[ IoU=0.50:0.95 | area=medium | maxDets=100 ] = 0.088\n",
            " Average Precision  (AP) @[ IoU=0.50:0.95 | area= large | maxDets=100 ] = 0.354\n",
            " Average Recall     (AR) @[ IoU=0.50:0.95 | area=   all | maxDets=  1 ] = 0.121\n",
            " Average Recall     (AR) @[ IoU=0.50:0.95 | area=   all | maxDets= 10 ] = 0.215\n",
            " Average Recall     (AR) @[ IoU=0.50:0.95 | area=   all | maxDets=100 ] = 0.233\n",
            " Average Recall     (AR) @[ IoU=0.50:0.95 | area= small | maxDets=100 ] = 0.467\n",
            " Average Recall     (AR) @[ IoU=0.50:0.95 | area=medium | maxDets=100 ] = 0.204\n",
            " Average Recall     (AR) @[ IoU=0.50:0.95 | area= large | maxDets=100 ] = 0.530\n",
            "Lowest train loss: 0.4083362817764282\n",
            "Lowest val loss: 0.3994482159614563\n",
            "Saving eval run experiment artifacts at: artifacts/planes_sgd/weights_at_eval/15_epochs\n",
            "\n",
            "Training [epoch 16]:\tout of 20\n",
            "Training: 100% 84/84 [01:05<00:00,  1.29it/s]\n",
            "Validation: 100% 84/84 [00:08<00:00, 10.31it/s]\n",
            "Lowest train loss: 0.40699195861816406\n",
            "Lowest val loss: 0.394829124212265\n",
            "\n",
            "Training [epoch 17]:\tout of 20\n",
            "Training: 100% 84/84 [01:05<00:00,  1.29it/s]\n",
            "Validation: 100% 84/84 [00:08<00:00, 10.26it/s]\n",
            "Lowest train loss: 0.39444708824157715\n",
            "Lowest val loss: 0.3904964029788971\n",
            "\n",
            "Training [epoch 18]:\tout of 20\n",
            "Training: 100% 84/84 [01:04<00:00,  1.29it/s]\n",
            "Validation: 100% 84/84 [00:07<00:00, 10.56it/s]\n",
            "Lowest train loss: 0.39444708824157715\n",
            "Lowest val loss: 0.38050323724746704\n",
            "\n",
            "Training [epoch 19]:\tout of 20\n",
            "Training: 100% 84/84 [01:05<00:00,  1.29it/s]\n",
            "Validation: 100% 84/84 [00:07<00:00, 10.61it/s]\n",
            "Lowest train loss: 0.39444708824157715\n",
            "Lowest val loss: 0.37635624408721924\n",
            "\n",
            "Training [epoch 20]:\tout of 20\n",
            "Training: 100% 84/84 [01:04<00:00,  1.29it/s]\n",
            "Validation: 100% 84/84 [00:08<00:00, 10.33it/s]\n",
            "creating index...\n",
            "index created!\n",
            "Test:  [ 0/84]  eta: 0:00:16  model_time: 0.0854 (0.0854)  evaluator_time: 0.0029 (0.0029)  time: 0.2016  data: 0.1114  max mem: 3183\n",
            "Test:  [83/84]  eta: 0:00:00  model_time: 0.0825 (0.0834)  evaluator_time: 0.0030 (0.0041)  time: 0.1015  data: 0.0116  max mem: 3183\n",
            "Test: Total time: 0:00:08 (0.0967 s / it)\n",
            "Averaged stats: model_time: 0.0825 (0.0834)  evaluator_time: 0.0030 (0.0041)\n",
            "Accumulating evaluation results...\n",
            "DONE (t=0.06s).\n",
            "IoU metric: bbox\n",
            " Average Precision  (AP) @[ IoU=0.50:0.95 | area=   all | maxDets=100 ] = 0.145\n",
            " Average Precision  (AP) @[ IoU=0.50      | area=   all | maxDets=100 ] = 0.295\n",
            " Average Precision  (AP) @[ IoU=0.75      | area=   all | maxDets=100 ] = 0.107\n",
            " Average Precision  (AP) @[ IoU=0.50:0.95 | area= small | maxDets=100 ] = 0.078\n",
            " Average Precision  (AP) @[ IoU=0.50:0.95 | area=medium | maxDets=100 ] = 0.102\n",
            " Average Precision  (AP) @[ IoU=0.50:0.95 | area= large | maxDets=100 ] = 0.397\n",
            " Average Recall     (AR) @[ IoU=0.50:0.95 | area=   all | maxDets=  1 ] = 0.123\n",
            " Average Recall     (AR) @[ IoU=0.50:0.95 | area=   all | maxDets= 10 ] = 0.220\n",
            " Average Recall     (AR) @[ IoU=0.50:0.95 | area=   all | maxDets=100 ] = 0.237\n",
            " Average Recall     (AR) @[ IoU=0.50:0.95 | area= small | maxDets=100 ] = 0.467\n",
            " Average Recall     (AR) @[ IoU=0.50:0.95 | area=medium | maxDets=100 ] = 0.206\n",
            " Average Recall     (AR) @[ IoU=0.50:0.95 | area= large | maxDets=100 ] = 0.542\n",
            "Lowest train loss: 0.38386303186416626\n",
            "Lowest val loss: 0.3720909655094147\n",
            "Saving eval run experiment artifacts at: artifacts/planes_sgd/weights_at_eval/20_epochs\n"
          ]
        }
      ],
      "source": [
        "! python3 strategy_real.py -d 'artifacts' -n 'planes_sgd' -bs 4 -e 20 -s 5 -o sgd -lr 0.0001"
      ]
    },
    {
      "cell_type": "markdown",
      "metadata": {
        "id": "lJ0rjG3PRUk-"
      },
      "source": [
        "## Run analysis\n",
        "- display training, validation losses\n",
        "- display minimum training and validation losses\n",
        "- display COCO eval data\n",
        "- save loss graph in `artifacts/` under `/project_name/`"
      ]
    },
    {
      "cell_type": "code",
      "execution_count": 6,
      "metadata": {
        "colab": {
          "base_uri": "https://localhost:8080/"
        },
        "id": "EcVthqmkr9YV",
        "outputId": "e956915c-e3cf-44b0-b628-c621f83d4bfa"
      },
      "outputs": [
        {
          "output_type": "stream",
          "name": "stdout",
          "text": [
            "\n",
            "-------------------------------------------------------------------------------\n",
            "Analysis for |FasterRCNN_ResNet50: 20 epochs of training|\n",
            "-------------------------------------------------------------------------------\n",
            "\n",
            "Training loss:\t\t[1.0867689, 0.6528642, 0.5661395, 0.52863705, 0.51213443, 0.5073384, 0.46672076, 0.4546424, 0.4447795, 0.44817638, 0.4436681, 0.42907992, 0.42442623, 0.40833628, 0.41765544, 0.40699196, 0.3944471, 0.40329665, 0.39697438, 0.38386303]\n",
            "\n",
            "Validation loss:\t[0.6924095, 0.56056184, 0.52611995, 0.5089408, 0.4943622, 0.48108596, 0.47100875, 0.45790562, 0.4462174, 0.44172728, 0.43143767, 0.41881633, 0.41113362, 0.40643442, 0.39944822, 0.39482912, 0.3904964, 0.38050324, 0.37635624, 0.37209097]\n",
            "\n",
            "Lowest Training loss:\t0.38386303186416626\n",
            "\n",
            "Lowest Validation loss:\t0.3720909655094147\n",
            "\n",
            "Final eval data:\n",
            "\n",
            "IoU metric: bbox\n",
            " Average Precision  (AP) @[ IoU=0.50:0.95 | area=   all | maxDets=100 ] = 0.145\n",
            " Average Precision  (AP) @[ IoU=0.50      | area=   all | maxDets=100 ] = 0.295\n",
            " Average Precision  (AP) @[ IoU=0.75      | area=   all | maxDets=100 ] = 0.107\n",
            " Average Precision  (AP) @[ IoU=0.50:0.95 | area= small | maxDets=100 ] = 0.078\n",
            " Average Precision  (AP) @[ IoU=0.50:0.95 | area=medium | maxDets=100 ] = 0.102\n",
            " Average Precision  (AP) @[ IoU=0.50:0.95 | area= large | maxDets=100 ] = 0.397\n",
            " Average Recall     (AR) @[ IoU=0.50:0.95 | area=   all | maxDets=  1 ] = 0.123\n",
            " Average Recall     (AR) @[ IoU=0.50:0.95 | area=   all | maxDets= 10 ] = 0.220\n",
            " Average Recall     (AR) @[ IoU=0.50:0.95 | area=   all | maxDets=100 ] = 0.237\n",
            " Average Recall     (AR) @[ IoU=0.50:0.95 | area= small | maxDets=100 ] = 0.467\n",
            " Average Recall     (AR) @[ IoU=0.50:0.95 | area=medium | maxDets=100 ] = 0.206\n",
            " Average Recall     (AR) @[ IoU=0.50:0.95 | area= large | maxDets=100 ] = 0.542\n",
            "Traceback (most recent call last):\n",
            "  File \"/content/object-detection-torch/analysis.py\", line 109, in <module>\n",
            "    run_analysis(PATH)\n",
            "  File \"/content/object-detection-torch/analysis.py\", line 75, in run_analysis\n",
            "    plt.plot(losses_val_NEW, color='Red')\n",
            "NameError: name 'losses_val_NEW' is not defined\n"
          ]
        }
      ],
      "source": [
        "!python3 analysis.py -d 'artifacts' -n 'planes_sgd'"
      ]
    },
    {
      "cell_type": "markdown",
      "metadata": {
        "id": "VchHWDKRRv5I"
      },
      "source": [
        "## Run inference on random image from test set using trained model to create detections\n",
        "- Ground truth annotation\n",
        "- Raw detection\n",
        "- Confidence Score threshold of 0.5\n",
        "- save loss graph in `artifacts/` under `/project_name/`"
      ]
    },
    {
      "cell_type": "code",
      "execution_count": 10,
      "metadata": {
        "colab": {
          "base_uri": "https://localhost:8080/"
        },
        "id": "Xs5vxyz0r9ca",
        "outputId": "18582253-c6d4-4947-dff5-83db16fc622f"
      },
      "outputs": [
        {
          "output_type": "stream",
          "name": "stdout",
          "text": [
            "\n",
            "-------------------------------------------------------------------------------\n",
            "Detections with |FasterRCNN_ResNet50: 20 epochs of training|\n",
            "-------------------------------------------------------------------------------\n",
            "\n",
            "-------------------------------------------------------------------------------\n",
            "Saving detection artifacts to: artifacts/planes_sgd/analysis/\n",
            "-------------------------------------------------------------------------------\n",
            "\n"
          ]
        }
      ],
      "source": [
        "!python3 detections.py -d 'artifacts' -n 'planes_sgd'"
      ]
    }
  ],
  "metadata": {
    "accelerator": "GPU",
    "colab": {
      "provenance": []
    },
    "gpuClass": "standard",
    "kernelspec": {
      "display_name": "Python 3 (ipykernel)",
      "language": "python",
      "name": "python3"
    },
    "language_info": {
      "codemirror_mode": {
        "name": "ipython",
        "version": 3
      },
      "file_extension": ".py",
      "mimetype": "text/x-python",
      "name": "python",
      "nbconvert_exporter": "python",
      "pygments_lexer": "ipython3",
      "version": "3.9.7"
    }
  },
  "nbformat": 4,
  "nbformat_minor": 0
}